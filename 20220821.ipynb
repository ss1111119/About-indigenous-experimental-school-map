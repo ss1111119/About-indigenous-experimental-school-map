{
  "nbformat": 4,
  "nbformat_minor": 0,
  "metadata": {
    "colab": {
      "name": "20220821.ipynb",
      "provenance": [],
      "authorship_tag": "ABX9TyPfobE5d351fa75Cb3jI+Ft",
      "include_colab_link": true
    },
    "kernelspec": {
      "name": "python3",
      "display_name": "Python 3"
    },
    "language_info": {
      "name": "python"
    }
  },
  "cells": [
    {
      "cell_type": "markdown",
      "metadata": {
        "id": "view-in-github",
        "colab_type": "text"
      },
      "source": [
        "<a href=\"https://colab.research.google.com/github/ss1111119/About-indigenous-experimental-school-map/blob/main/20220821.ipynb\" target=\"_parent\"><img src=\"https://colab.research.google.com/assets/colab-badge.svg\" alt=\"Open In Colab\"/></a>"
      ]
    },
    {
      "cell_type": "markdown",
      "source": [
        "# 例外處理"
      ],
      "metadata": {
        "id": "sSiHwN98t3A7"
      }
    },
    {
      "cell_type": "markdown",
      "source": [
        "## try…except 的語法  \n",
        "\n",
        "```\n",
        "try:(必填)\n",
        "    可能引發例外的程式區塊\n",
        "except 例外情形一 [as 參數]:\n",
        "    處理例外的程式區塊一\n",
        "except Exception [as 參數]:(必填)\n",
        "    處理所有其他可能發生的例外\n",
        "else: (非必填)\n",
        "    指令正確時執行的程式區塊\n",
        "finally:(非必填)\n",
        "    一定會執行的程式區塊\n",
        "```"
      ],
      "metadata": {
        "id": "HILT-uYbz81z"
      }
    },
    {
      "cell_type": "code",
      "source": [
        "# 語法測試、練習\n",
        "try:\n",
        "    f = open('123.txt', 'r')\n",
        "# except FileNotFoundError:\n",
        "#     print('沒有這個檔案')\n",
        "except:\n",
        "    print('好像有什麼錯誤喔!')\n",
        "else:\n",
        "    print('有這個檔案喔!')\n",
        "finally: #永遠會執行\n",
        "    print('程式結束啦')"
      ],
      "metadata": {
        "id": "_H2K50Fq0BFP"
      },
      "execution_count": null,
      "outputs": []
    },
    {
      "cell_type": "markdown",
      "source": [
        "## try…except常用例外錯誤表  \n",
        "* AttributeError：物件無此屬性。  \n",
        "* Exception：所有的錯誤。  \n",
        "* FileNotFoundError：open()開啟檔案時找不檔案的錯誤。  \n",
        "* IOError：輸入/ 輸出錯誤。  \n",
        "* ZeroDivisionError：除數為0的錯誤。\n"
      ],
      "metadata": {
        "id": "04Ctf2uV3o5i"
      }
    },
    {
      "cell_type": "code",
      "source": [
        "# 範例：捕捉非數值資料和除數為0的錯誤\n",
        "try:\n",
        "    a = int(input(\"a = \"))\n",
        "    b = int(input(\"b = \"))\n",
        "    r = a % b\n",
        "except ValueError:\n",
        "    print(\"你不要輸入文字或怪怪的東西啦\")\n",
        "except ZeroDivisionError as e:\n",
        "    print(\"這裡發生了一{}個錯誤\".format(e))\n",
        "except:\n",
        "    print(\"你要不要正經一點?\")\n",
        "else:\n",
        "    print(\"r = {}\".format(r))\n",
        "finally:\n",
        "    print(\"程式結束\")"
      ],
      "metadata": {
        "id": "YY44Ffqq7Uru"
      },
      "execution_count": null,
      "outputs": []
    },
    {
      "cell_type": "code",
      "source": [
        "while True: #要求你輸入到正確為止\n",
        "    try:\n",
        "        a = int(input(\"a = \"))\n",
        "        b = int(input(\"b = \"))\n",
        "        r = a % b\n",
        "    except ValueError:\n",
        "        print(\"你不要輸入文字或怪怪的東西啦!\")\n",
        "    except ZeroDivisionError as e:\n",
        "        print(\"這裡發生了一個{}的錯誤\".format(e))\n",
        "    except:\n",
        "        print(\"你要不要正經一點?\")\n",
        "    else:\n",
        "        print(\"r = {}\".format(r))\n",
        "        break\n",
        "    finally:\n",
        "        print(\"-\" * 10) "
      ],
      "metadata": {
        "id": "LOgNm8mvMTG-"
      },
      "execution_count": null,
      "outputs": []
    },
    {
      "cell_type": "markdown",
      "source": [
        "# 文件檔案的爬取與儲存"
      ],
      "metadata": {
        "id": "UEZmkM6PNfAK"
      }
    },
    {
      "cell_type": "markdown",
      "source": [
        "## 資料檔案的儲存：open()函式\n",
        "### 語法\n",
        "    with open(檔案名稱[, 模式][, 編碼]) as f: #檔案物件\n",
        "        f.檔案處理函式()\n",
        "\n",
        "* 檔案名稱：設定檔案的名稱，它是字串型態。  \n",
        "* 模式：設定檔案開啟的模式，省略將預設為讀取模式。  \n",
        "    * r\t：讀取模式，此為預設模式。  \n",
        "    * a\t：附加模式，若檔案已存在，內容會被附加至檔案尾。    \n",
        "    * w\t：寫入模式，若檔案已存在，內容將會被覆蓋。  \n",
        "    * b ：二進位模式\n",
        "* 編碼：指定檔案的編碼模式，一般可設定`cp950`或`UTF-8` (大小寫都可以)。\n",
        "\n",
        "## 檔案處理函式\n",
        "* read()：讀取檔案內容為文字。\n",
        "* readline()：讀取檔案內容的第一行文字。\n",
        "* readlines()：讀取檔案內容，以行為元素儲存為串列。\n",
        "* write()：寫入檔案。\n",
        "* close()：關閉檔案。"
      ],
      "metadata": {
        "id": "QKPU-FKVNio0"
      }
    },
    {
      "cell_type": "code",
      "source": [
        "# 文字檔案讀寫的範例\n",
        "f = open('file.txt', 'w')\n",
        "f.write('abc')\n",
        "f.close()\n",
        "\n",
        "f = open('file.txt', 'a')\n",
        "f.write('123')\n",
        "f.close()\n",
        "\n",
        "f = open('file.txt')\n",
        "print(f.read())\n",
        "f.close()"
      ],
      "metadata": {
        "id": "KzTxqVsJNv7a"
      },
      "execution_count": null,
      "outputs": []
    },
    {
      "cell_type": "code",
      "source": [
        "f = open('file1.txt', 'a')\n",
        "f.write('123')\n",
        "f.write('abc')\n",
        "f.close()"
      ],
      "metadata": {
        "id": "-hTaI2gwYhtL"
      },
      "execution_count": null,
      "outputs": []
    },
    {
      "cell_type": "code",
      "source": [
        "with open('file2.txt', 'a') as f: #用with 寫這個物件，當程式脫離迴圈就會自動關起來\n",
        "    f.write('123')\n",
        "    f.write('abc')"
      ],
      "metadata": {
        "id": "586jkFlFZUok"
      },
      "execution_count": null,
      "outputs": []
    },
    {
      "cell_type": "markdown",
      "source": [
        "## 資料的爬取：requests模組"
      ],
      "metadata": {
        "id": "f4k1cb6taHy0"
      }
    },
    {
      "cell_type": "code",
      "source": [
        "# 讀取遠端資料\n",
        "# COVID-19各國家地區累積病例數與死亡數\n",
        "# https://data.gov.tw/dataset/120449\n",
        "import requests\n",
        "url = 'https://od.cdc.gov.tw/eic/covid19/covid19_global_cases_and_deaths.csv'\n",
        "r = requests.get(url)\n",
        "r.encoding = \"utf-8\" #轉換成中文編碼\n",
        "r"
      ],
      "metadata": {
        "colab": {
          "base_uri": "https://localhost:8080/"
        },
        "id": "x1uU0LTJak4s",
        "outputId": "fad6a181-ae2e-4876-834e-85f76a6e6b83"
      },
      "execution_count": 7,
      "outputs": [
        {
          "output_type": "execute_result",
          "data": {
            "text/plain": [
              "<Response [200]>"
            ]
          },
          "metadata": {},
          "execution_count": 7
        }
      ]
    },
    {
      "cell_type": "code",
      "source": [
        "# r.text\n",
        "print(r.text)"
      ],
      "metadata": {
        "id": "Uyx8B7QEg9-t"
      },
      "execution_count": null,
      "outputs": []
    },
    {
      "cell_type": "code",
      "source": [
        "# 文字檔案下載\n",
        "with open('covid-19.csv', 'w') as f:\n",
        "    f.write(r.text)"
      ],
      "metadata": {
        "id": "HVA9cLe4ihGP"
      },
      "execution_count": 8,
      "outputs": []
    },
    {
      "cell_type": "code",
      "source": [
        "# 圖片下載\n",
        "# https://youtu.be/qo3H-VgXmHE\n",
        "# https://img.youtube.com/vi/qo3H-VgXmHE/sddefault.jpg (取得縮圖)\n",
        "import requests\n",
        "url = 'https://img.youtube.com/vi/qo3H-VgXmHE/sddefault.jpg'\n",
        "r = requests.get(url)\n",
        "with open('ng.jpg', 'wb') as f: #w寫入b二進位檔案\n",
        "    f.write(r.content)"
      ],
      "metadata": {
        "id": "nnd6OWHCkDSR"
      },
      "execution_count": null,
      "outputs": []
    },
    {
      "cell_type": "markdown",
      "source": [
        "### Colab專用：wget指令"
      ],
      "metadata": {
        "id": "3W8w3s8MohST"
      }
    },
    {
      "cell_type": "code",
      "source": [
        "# 用 wget 指令\n",
        "# !wget -O 檔名 網址\n",
        "!wget -O google.png https://www.google.com/images/branding/googlelogo/1x/googlelogo_color_272x92dp.png"
      ],
      "metadata": {
        "id": "u6G4qO60okbL"
      },
      "execution_count": null,
      "outputs": []
    },
    {
      "cell_type": "markdown",
      "source": [
        "# 網頁資料解析"
      ],
      "metadata": {
        "id": "UhgVqv-fo5Xp"
      }
    },
    {
      "cell_type": "markdown",
      "source": [
        "## 網頁資料解析：BeautifulSoup模組\n"
      ],
      "metadata": {
        "id": "YUzTwC5po9CE"
      }
    },
    {
      "cell_type": "code",
      "source": [
        "# 基本練習\n",
        "# http://ehappy.tw/bsdemo1.htm\n",
        "import requests\n",
        "url = 'http://ehappy.tw/bsdemo1.htm'\n",
        "r = requests.get(url)\n",
        "r.encoding = 'utf-8'\n",
        "print(r.text)"
      ],
      "metadata": {
        "id": "PaIrbL5UqQkb"
      },
      "execution_count": null,
      "outputs": []
    },
    {
      "cell_type": "code",
      "source": [
        "from bs4 import BeautifulSoup\n",
        "sp = BeautifulSoup(r.text, 'html.parser')\n",
        "sp.title\n",
        "sp.title.text\n",
        "sp.h1.text\n",
        "sp.a.text"
      ],
      "metadata": {
        "id": "FmJclc0ruJWJ"
      },
      "execution_count": null,
      "outputs": []
    },
    {
      "cell_type": "code",
      "source": [
        "# 練習 find() find_all()\n",
        "# http://ehappy.tw/bsdemo2.htm\n",
        "import requests\n",
        "from bs4 import BeautifulSoup\n",
        "\n",
        "url = 'http://ehappy.tw/bsdemo2.htm'\n",
        "r = requests.get(url)\n",
        "r.encoding = 'utf-8'\n",
        "sp = BeautifulSoup(r.text, 'html.parser')\n",
        "sp.title.text\n",
        "sp.h1.text\n",
        "sp.a.text"
      ],
      "metadata": {
        "id": "Uo_etBg2vlIY"
      },
      "execution_count": null,
      "outputs": []
    },
    {
      "cell_type": "code",
      "source": [
        "# 找標籤tag\n",
        "# sp.find('p').text\n",
        "sp.find_all('p')[1].text\n",
        "\n",
        "sp.find('p', id= 'p2').text\n",
        "sp.find_all('a')[1]\n",
        "sp.find('a', href = 'http://www.e-happy.com.tw').text\n",
        "sp.find('li', class_ = 'even').find('a').text #class是保留字，要注意\n",
        "sp.find('li', class_ = 'even').text #只取文字檔\n",
        "sp.find('li', class_ = 'even').a.text #a標籤中的文字"
      ],
      "metadata": {
        "id": "4OGnKqGwyUsJ"
      },
      "execution_count": null,
      "outputs": []
    },
    {
      "cell_type": "code",
      "source": [
        "# 取的屬性\n",
        "sp.find('li', class_ = 'even').a['href']\n",
        "sp.find('li', class_ = 'even').a.get('href')\n",
        "\n",
        "sp.img.get('src')\n",
        "sp.img['src']\n",
        "sp.find('img').get('src')\n",
        "sp.find_all('img')[0].get('src')"
      ],
      "metadata": {
        "id": "rJXB9dre4OCW"
      },
      "execution_count": null,
      "outputs": []
    },
    {
      "cell_type": "markdown",
      "source": [
        "## 專題：PTT美食版\n",
        "\n",
        "https://www.ptt.cc/bbs/Food/index.html"
      ],
      "metadata": {
        "id": "c0F0vCzQIPOf"
      }
    },
    {
      "cell_type": "code",
      "source": [
        "# 基本版\n",
        "import requests\n",
        "from bs4 import BeautifulSoup\n",
        "\n",
        "url = 'https://www.ptt.cc/bbs/Food/index7001.html'\n",
        "r = requests.get(url)\n",
        "# print(r.text)\n",
        "sp = BeautifulSoup(r.text, 'html.parser')\n",
        "sp.title.text"
      ],
      "metadata": {
        "colab": {
          "base_uri": "https://localhost:8080/",
          "height": 36
        },
        "id": "161CEaIbIXLv",
        "outputId": "9e87def5-cb5c-4d6d-d5b6-d717f0322966"
      },
      "execution_count": 151,
      "outputs": [
        {
          "output_type": "execute_result",
          "data": {
            "text/plain": [
              "'看板 Food 文章列表 - 批踢踢實業坊'"
            ],
            "application/vnd.google.colaboratory.intrinsic+json": {
              "type": "string"
            }
          },
          "metadata": {},
          "execution_count": 151
        }
      ]
    },
    {
      "cell_type": "code",
      "source": [
        "# len(sp.find_all(\"div\", class_='r-ent'))\n",
        "datas = sp.find_all(\"div\", class_='r-ent')\n",
        "# datas[19].a.text #簡寫\n",
        "# datas[0].find('a').text#datas[0]取得第一個標題，再找a連結中的列，最後只取文text文字檔\n",
        "for data in datas:\n",
        "    if data.a == None: #因為有文章被刪除，所以要排除，不然會中斷\n",
        "       print(data.a)\n",
        "    else:\n",
        "       print(data.find('div', class_ ='date').text, end = ' ')\n",
        "       print('http://www.ptt.cc' + data.a.get('href'), end = ' ')\n",
        "       print(data.a.text)\n",
        "       "
      ],
      "metadata": {
        "colab": {
          "base_uri": "https://localhost:8080/"
        },
        "id": "vlCYsb5GMWo8",
        "outputId": "8347c549-37bd-4ec0-8c3d-2a37f6c96f06"
      },
      "execution_count": 193,
      "outputs": [
        {
          "output_type": "stream",
          "name": "stdout",
          "text": [
            " 8/21 http://www.ptt.cc/bbs/Food/M.1661066591.A.546.html [食記] 花蓮-弘宇蛋糕~愛文芒果蛋糕\n",
            " 8/21 http://www.ptt.cc/bbs/Food/M.1661075585.A.466.html [食記] 永美雪花冰 新北永和 黑糖珍珠奶茶雪花冰\n",
            "None\n",
            " 8/21 http://www.ptt.cc/bbs/Food/M.1661079526.A.A80.html [廣宣] 信義。筷炒KUAICHAO $499酒飲料喝到飽\n",
            " 8/21 http://www.ptt.cc/bbs/Food/M.1661085153.A.4C4.html [食記] 台北 黑瓶小館 讓人驚豔的牛舌、小牛肋排\n",
            " 8/21 http://www.ptt.cc/bbs/Food/M.1661088879.A.25A.html [請益] 雙北或基隆宜蘭餐廳推薦\n",
            " 8/21 http://www.ptt.cc/bbs/Food/M.1661089091.A.4D1.html [食記] 台北 元味料理 海戰車好甜美\n",
            " 8/21 http://www.ptt.cc/bbs/Food/M.1661089798.A.9E3.html [食記] 新北三重—源記赤肉胡椒餅｜酥脆餅皮包裹鹹香夠味肉餡\n",
            " 8/21 http://www.ptt.cc/bbs/Food/M.1661090903.A.62A.html [食記] 嘉義 體育館海鮮碳烤 熱炒、雞肉飯好吃\n",
            " 8/21 http://www.ptt.cc/bbs/Food/M.1661091158.A.C28.html [食記] 貢寮 吃飯看海 海景餐廳 九孔鮑產地直送\n",
            " 8/21 http://www.ptt.cc/bbs/Food/M.1661091646.A.F26.html [食記] 礁溪 空ㄟ農場 景觀餐廳 吃Pizza看夜景\n",
            " 8/21 http://www.ptt.cc/bbs/Food/M.1661092178.A.A2B.html [食記] 台北 荷麵亭 特濃豚骨拉麵\n",
            " 8/21 http://www.ptt.cc/bbs/Food/M.1661096451.A.E71.html [食記] 日本福岡 大地のうどん 博多駅店\n",
            " 8/21 http://www.ptt.cc/bbs/Food/M.1661096856.A.2E0.html [食記] 台南東區 葒莊珍珠輕飲 手工粉圓自製冰塊\n",
            " 8/21 http://www.ptt.cc/bbs/Food/M.1661097186.A.658.html [食記] 台南永康 川醉湘麻辣食堂 麻辣很過癮\n",
            " 8/22 http://www.ptt.cc/bbs/Food/M.1661098258.A.3AA.html [食記] 基隆市中正區-濃月雪花冰\n",
            " 8/22 http://www.ptt.cc/bbs/Food/M.1661098271.A.633.html [食記] 桃園中壢區。KLG 中壢健行店\n",
            " 8/22 http://www.ptt.cc/bbs/Food/M.1661103204.A.E16.html [食記] 基隆 長腳麵食\n",
            " 8/22 http://www.ptt.cc/bbs/Food/M.1661134161.A.948.html [食記] 新北板橋 發肉燒肉餐酒吧-板橋三店\n",
            " 8/22 http://www.ptt.cc/bbs/Food/M.1661134256.A.35F.html [食記] 高雄 路竹 鳳如辣辣火鍋\n"
          ]
        }
      ]
    },
    {
      "cell_type": "code",
      "source": [
        "import requests\n",
        "from bs4 import BeautifulSoup\n",
        "\n",
        "url = 'https://www.ptt.cc/bbs/Food/index7001.html'\n",
        "r = requests.get(url)\n",
        "\n",
        "sp = BeautifulSoup(r.text, 'html.parser')\n",
        "\n",
        "datas = sp.find_all(\"div\", class_='r-ent')\n",
        "for data in datas:\n",
        "    if data.a == None:\n",
        "       print(data.a)\n",
        "    else:\n",
        "       print(data.a.text)\n"
      ],
      "metadata": {
        "colab": {
          "base_uri": "https://localhost:8080/"
        },
        "id": "-ud29foIgCL6",
        "outputId": "2d3ae18b-85b5-4aae-ae4a-bf7d2e9d9eb6"
      },
      "execution_count": 4,
      "outputs": [
        {
          "output_type": "stream",
          "name": "stdout",
          "text": [
            "[食記] 花蓮-弘宇蛋糕~愛文芒果蛋糕\n",
            "[食記] 永美雪花冰 新北永和 黑糖珍珠奶茶雪花冰\n",
            "None\n",
            "[廣宣] 信義。筷炒KUAICHAO $499酒飲料喝到飽\n",
            "[食記] 台北 黑瓶小館 讓人驚豔的牛舌、小牛肋排\n",
            "[請益] 雙北或基隆宜蘭餐廳推薦\n",
            "[食記] 台北 元味料理 海戰車好甜美\n",
            "[食記] 新北三重—源記赤肉胡椒餅｜酥脆餅皮包裹鹹香夠味肉餡\n",
            "[食記] 嘉義 體育館海鮮碳烤 熱炒、雞肉飯好吃\n",
            "[食記] 貢寮 吃飯看海 海景餐廳 九孔鮑產地直送\n",
            "[食記] 礁溪 空ㄟ農場 景觀餐廳 吃Pizza看夜景\n",
            "[食記] 台北 荷麵亭 特濃豚骨拉麵\n",
            "[食記] 日本福岡 大地のうどん 博多駅店\n",
            "[食記] 台南東區 葒莊珍珠輕飲 手工粉圓自製冰塊\n",
            "[食記] 台南永康 川醉湘麻辣食堂 麻辣很過癮\n",
            "[食記] 基隆市中正區-濃月雪花冰\n",
            "[食記] 桃園中壢區。KLG 中壢健行店\n",
            "[食記] 基隆 長腳麵食\n",
            "[食記] 新北板橋 發肉燒肉餐酒吧-板橋三店\n",
            "[食記] 高雄 路竹 鳳如辣辣火鍋\n"
          ]
        }
      ]
    },
    {
      "cell_type": "code",
      "source": [
        "import requests\n",
        "from bs4 import BeautifulSoup\n",
        "url = 'https://www.ptt.cc/bbs/Food/index7001.html'\n",
        "\n",
        "for i in range(5):\n",
        "    print(f\"第{i+1}頁\") #因為從0算所以要+1\n",
        "    r = requests.get(url)\n",
        "    sp = BeautifulSoup(r.text, 'html.parser')\n",
        "    # len(sp.find_all('a', class_='btn wide')) #算有幾個\n",
        "    # sp.find_all('a', class_='btn wide')[0]＃5找連結\n",
        "    datas = sp.find_all(\"div\", class_='r-ent')\n",
        "    for data in datas:\n",
        "        if data.a == None:\n",
        "           print('')\n",
        "        else:\n",
        "           print(data.find('div', class_ ='date').text, end = ' ')\n",
        "           print('http://www.ptt.cc' + data.a.get('href'), end = ' ')\n",
        "           print(data.a.text)\n",
        "\n",
        "    url = 'http://www.ptt.cc' + sp.find_all('a', class_='btn wide')[2].get('href') #找到下一頁連結"
      ],
      "metadata": {
        "colab": {
          "base_uri": "https://localhost:8080/"
        },
        "id": "rNqtT4ZEH179",
        "outputId": "74493d58-dca9-4e19-806e-31f62b5bcc23"
      },
      "execution_count": 209,
      "outputs": [
        {
          "output_type": "stream",
          "name": "stdout",
          "text": [
            "第1頁\n",
            " 8/21 http://www.ptt.cc/bbs/Food/M.1661066591.A.546.html [食記] 花蓮-弘宇蛋糕~愛文芒果蛋糕\n",
            " 8/21 http://www.ptt.cc/bbs/Food/M.1661075585.A.466.html [食記] 永美雪花冰 新北永和 黑糖珍珠奶茶雪花冰\n",
            "\n",
            " 8/21 http://www.ptt.cc/bbs/Food/M.1661079526.A.A80.html [廣宣] 信義。筷炒KUAICHAO $499酒飲料喝到飽\n",
            " 8/21 http://www.ptt.cc/bbs/Food/M.1661085153.A.4C4.html [食記] 台北 黑瓶小館 讓人驚豔的牛舌、小牛肋排\n",
            " 8/21 http://www.ptt.cc/bbs/Food/M.1661088879.A.25A.html [請益] 雙北或基隆宜蘭餐廳推薦\n",
            " 8/21 http://www.ptt.cc/bbs/Food/M.1661089091.A.4D1.html [食記] 台北 元味料理 海戰車好甜美\n",
            " 8/21 http://www.ptt.cc/bbs/Food/M.1661089798.A.9E3.html [食記] 新北三重—源記赤肉胡椒餅｜酥脆餅皮包裹鹹香夠味肉餡\n",
            " 8/21 http://www.ptt.cc/bbs/Food/M.1661090903.A.62A.html [食記] 嘉義 體育館海鮮碳烤 熱炒、雞肉飯好吃\n",
            " 8/21 http://www.ptt.cc/bbs/Food/M.1661091158.A.C28.html [食記] 貢寮 吃飯看海 海景餐廳 九孔鮑產地直送\n",
            " 8/21 http://www.ptt.cc/bbs/Food/M.1661091646.A.F26.html [食記] 礁溪 空ㄟ農場 景觀餐廳 吃Pizza看夜景\n",
            " 8/21 http://www.ptt.cc/bbs/Food/M.1661092178.A.A2B.html [食記] 台北 荷麵亭 特濃豚骨拉麵\n",
            " 8/21 http://www.ptt.cc/bbs/Food/M.1661096451.A.E71.html [食記] 日本福岡 大地のうどん 博多駅店\n",
            " 8/21 http://www.ptt.cc/bbs/Food/M.1661096856.A.2E0.html [食記] 台南東區 葒莊珍珠輕飲 手工粉圓自製冰塊\n",
            " 8/21 http://www.ptt.cc/bbs/Food/M.1661097186.A.658.html [食記] 台南永康 川醉湘麻辣食堂 麻辣很過癮\n",
            " 8/22 http://www.ptt.cc/bbs/Food/M.1661098258.A.3AA.html [食記] 基隆市中正區-濃月雪花冰\n",
            " 8/22 http://www.ptt.cc/bbs/Food/M.1661098271.A.633.html [食記] 桃園中壢區。KLG 中壢健行店\n",
            " 8/22 http://www.ptt.cc/bbs/Food/M.1661103204.A.E16.html [食記] 基隆 長腳麵食\n",
            " 8/22 http://www.ptt.cc/bbs/Food/M.1661134161.A.948.html [食記] 新北板橋 發肉燒肉餐酒吧-板橋三店\n",
            " 8/22 http://www.ptt.cc/bbs/Food/M.1661134256.A.35F.html [食記] 高雄 路竹 鳳如辣辣火鍋\n",
            "第2頁\n",
            " 8/22 http://www.ptt.cc/bbs/Food/M.1661136104.A.232.html [食記] 高雄三民 小吃-嘉義四味果汁涼麵\n",
            " 8/22 http://www.ptt.cc/bbs/Food/M.1661137568.A.861.html [食記] 板橋-江翠、新埔日常口袋名單\n",
            " 8/22 http://www.ptt.cc/bbs/Food/M.1661139531.A.4E6.html [食記] 台北景美 擺渡冰室 各類正宗港式美食推薦\n",
            " 8/22 http://www.ptt.cc/bbs/Food/M.1661145335.A.5BC.html [食記] 台南東區 百年老店鍋燒意麵  很多分店\n",
            " 8/22 http://www.ptt.cc/bbs/Food/M.1661145521.A.B51.html [食記] 台南東區 尚之味火鍋 近成大後火車站美食\n",
            "12/16 http://www.ptt.cc/bbs/Food/M.1355673582.A.5F7.html [公告] Food板 板規 V3.91\n",
            " 9/28 http://www.ptt.cc/bbs/Food/M.1190944426.A.E6C.html [公告] 發文請在標題加上地區及提供地址電話。^^\n",
            "10/01 http://www.ptt.cc/bbs/Food/M.1128132666.A.0FD.html [公告] 文章被刪除者請洽精華區的資源回收桶\n",
            " 6/04 http://www.ptt.cc/bbs/Food/M.1496532469.A.C36.html [公告] 新增板規22：發文禁附延伸閱讀連結\n",
            "第3頁\n",
            " 8/22 http://www.ptt.cc/bbs/Food/M.1661136104.A.232.html [食記] 高雄三民 小吃-嘉義四味果汁涼麵\n",
            " 8/22 http://www.ptt.cc/bbs/Food/M.1661137568.A.861.html [食記] 板橋-江翠、新埔日常口袋名單\n",
            " 8/22 http://www.ptt.cc/bbs/Food/M.1661139531.A.4E6.html [食記] 台北景美 擺渡冰室 各類正宗港式美食推薦\n",
            " 8/22 http://www.ptt.cc/bbs/Food/M.1661145335.A.5BC.html [食記] 台南東區 百年老店鍋燒意麵  很多分店\n",
            " 8/22 http://www.ptt.cc/bbs/Food/M.1661145521.A.B51.html [食記] 台南東區 尚之味火鍋 近成大後火車站美食\n",
            "12/16 http://www.ptt.cc/bbs/Food/M.1355673582.A.5F7.html [公告] Food板 板規 V3.91\n",
            " 9/28 http://www.ptt.cc/bbs/Food/M.1190944426.A.E6C.html [公告] 發文請在標題加上地區及提供地址電話。^^\n",
            "10/01 http://www.ptt.cc/bbs/Food/M.1128132666.A.0FD.html [公告] 文章被刪除者請洽精華區的資源回收桶\n",
            " 6/04 http://www.ptt.cc/bbs/Food/M.1496532469.A.C36.html [公告] 新增板規22：發文禁附延伸閱讀連結\n",
            "第4頁\n",
            " 8/22 http://www.ptt.cc/bbs/Food/M.1661136104.A.232.html [食記] 高雄三民 小吃-嘉義四味果汁涼麵\n",
            " 8/22 http://www.ptt.cc/bbs/Food/M.1661137568.A.861.html [食記] 板橋-江翠、新埔日常口袋名單\n",
            " 8/22 http://www.ptt.cc/bbs/Food/M.1661139531.A.4E6.html [食記] 台北景美 擺渡冰室 各類正宗港式美食推薦\n",
            " 8/22 http://www.ptt.cc/bbs/Food/M.1661145335.A.5BC.html [食記] 台南東區 百年老店鍋燒意麵  很多分店\n",
            " 8/22 http://www.ptt.cc/bbs/Food/M.1661145521.A.B51.html [食記] 台南東區 尚之味火鍋 近成大後火車站美食\n",
            "12/16 http://www.ptt.cc/bbs/Food/M.1355673582.A.5F7.html [公告] Food板 板規 V3.91\n",
            " 9/28 http://www.ptt.cc/bbs/Food/M.1190944426.A.E6C.html [公告] 發文請在標題加上地區及提供地址電話。^^\n",
            "10/01 http://www.ptt.cc/bbs/Food/M.1128132666.A.0FD.html [公告] 文章被刪除者請洽精華區的資源回收桶\n",
            " 6/04 http://www.ptt.cc/bbs/Food/M.1496532469.A.C36.html [公告] 新增板規22：發文禁附延伸閱讀連結\n",
            "第5頁\n",
            " 8/22 http://www.ptt.cc/bbs/Food/M.1661136104.A.232.html [食記] 高雄三民 小吃-嘉義四味果汁涼麵\n",
            " 8/22 http://www.ptt.cc/bbs/Food/M.1661137568.A.861.html [食記] 板橋-江翠、新埔日常口袋名單\n",
            " 8/22 http://www.ptt.cc/bbs/Food/M.1661139531.A.4E6.html [食記] 台北景美 擺渡冰室 各類正宗港式美食推薦\n",
            " 8/22 http://www.ptt.cc/bbs/Food/M.1661145335.A.5BC.html [食記] 台南東區 百年老店鍋燒意麵  很多分店\n",
            " 8/22 http://www.ptt.cc/bbs/Food/M.1661145521.A.B51.html [食記] 台南東區 尚之味火鍋 近成大後火車站美食\n",
            "12/16 http://www.ptt.cc/bbs/Food/M.1355673582.A.5F7.html [公告] Food板 板規 V3.91\n",
            " 9/28 http://www.ptt.cc/bbs/Food/M.1190944426.A.E6C.html [公告] 發文請在標題加上地區及提供地址電話。^^\n",
            "10/01 http://www.ptt.cc/bbs/Food/M.1128132666.A.0FD.html [公告] 文章被刪除者請洽精華區的資源回收桶\n",
            " 6/04 http://www.ptt.cc/bbs/Food/M.1496532469.A.C36.html [公告] 新增板規22：發文禁附延伸閱讀連結\n"
          ]
        }
      ]
    },
    {
      "cell_type": "code",
      "source": [
        "# 爬 5 頁 #老師教的\n",
        "import requests\n",
        "from bs4 import BeautifulSoup\n",
        "url = 'https://www.ptt.cc/bbs/Food/index.html'\n",
        "\n",
        "for i in range(5):\n",
        "    print(f\"第 {i+1} 頁\")\n",
        "    r = requests.get(url)\n",
        "    sp = BeautifulSoup(r.text, 'html.parser')\n",
        "    datas = sp.find_all(\"div\", class_='r-ent')\n",
        "    for data in datas:\n",
        "        if data.a:\n",
        "            print(data.find('div', class_='date').text, end=' ')\n",
        "            print('https://www.ptt.cc' + data.a.get('href'), end= ' ')\n",
        "            print(data.a.text)\n",
        "    url ='https://www.ptt.cc' + sp.find_all('a', class_='btn wide')[1].get('href')"
      ],
      "metadata": {
        "id": "CvhEUqcdLkLJ"
      },
      "execution_count": null,
      "outputs": []
    },
    {
      "cell_type": "code",
      "source": [
        "# 爬NBA\n",
        "import requests\n",
        "from bs4 import BeautifulSoup\n",
        "url = 'https://www.ptt.cc/bbs/NBA/index.html'\n",
        "\n",
        "for i in range(5):\n",
        "    print(f\"第{i+1}頁\") #因為從0算所以要+1\n",
        "    r = requests.get(url)\n",
        "    sp = BeautifulSoup(r.text, 'html.parser')\n",
        "    # len(sp.find_all('a', class_='btn wide')) #算有幾個\n",
        "    # sp.find_all('a', class_='btn wide')[0]＃5找連結\n",
        "    datas = sp.find_all(\"div\", class_='r-ent')\n",
        "    for data in datas:\n",
        "        if data.a == None:\n",
        "           print('')\n",
        "        else:\n",
        "           print(data.find('div', class_ ='date').text, end = ' ')\n",
        "           print('http://www.ptt.cc' + data.a.get('href'), end = ' ')\n",
        "           print(data.a.text)\n",
        "\n",
        "    url = 'http://www.ptt.cc' + sp.find_all('a', class_='btn wide')[2].get('href') #找到下一頁連結"
      ],
      "metadata": {
        "colab": {
          "base_uri": "https://localhost:8080/"
        },
        "id": "_2BDaflWNxzC",
        "outputId": "7c140d6f-04d5-4f97-f23d-edbc948780fa"
      },
      "execution_count": 210,
      "outputs": [
        {
          "output_type": "stream",
          "name": "stdout",
          "text": [
            "第1頁\n",
            " 8/21 http://www.ptt.cc/bbs/NBA/M.1661068435.A.2C8.html [花邊] 場館地板濕滑影響球員 西雅圖聯賽被迫取\n",
            " 8/21 http://www.ptt.cc/bbs/NBA/M.1661069850.A.1E8.html [新聞] 復健期間情緒低潮 威斯曼：變得更堅強\n",
            " 8/21 http://www.ptt.cc/bbs/NBA/M.1661070417.A.D8D.html [情報] 史上大手掌前十球員\n",
            " 8/21 http://www.ptt.cc/bbs/NBA/M.1661076371.A.6A1.html [情報] Steven Adams表達對IU的喜愛 : IU很性感 \n",
            " 8/21 http://www.ptt.cc/bbs/NBA/M.1661084333.A.624.html [花邊] Jordan Clarkson 在菲律賓夜店狂歡\n",
            " 8/21 http://www.ptt.cc/bbs/NBA/M.1661094914.A.DEB.html [情報] 青賽隊 Robert Williams 膝蓋傷勢更新\n",
            " 8/22 http://www.ptt.cc/bbs/NBA/M.1661107215.A.A2F.html [情報] 哈隊長將續約熱火\n",
            "\n",
            " 8/22 http://www.ptt.cc/bbs/NBA/M.1661117924.A.F63.html [花邊] Jamal Crawford 推特\n",
            " 8/22 http://www.ptt.cc/bbs/NBA/M.1661127307.A.C00.html [新聞] 超過1年的等待 籃網西蒙斯有望季前訓練營正式回歸\n",
            " 8/22 http://www.ptt.cc/bbs/NBA/M.1661129646.A.CB3.html [新聞] 力抗詹皇守到扭傷　雷霆竹竿榜眼霍姆葛\n",
            " 8/22 http://www.ptt.cc/bbs/NBA/M.1661131688.A.91D.html [新聞] LeBron Wade 擔任監製 Netflix將推出奧運\n",
            " 8/22 http://www.ptt.cc/bbs/NBA/M.1661136039.A.22E.html [新聞] WNBA球星獲釋得靠「小蟲」？　羅德曼將\n",
            " 8/22 http://www.ptt.cc/bbs/NBA/M.1661137966.A.EAD.html [外絮] Tatum在季後賽期間手腕骨折\n",
            " 8/22 http://www.ptt.cc/bbs/NBA/M.1661146347.A.0DA.html [情報] 史上單季1000助攻次數\n",
            " 4/15 http://www.ptt.cc/bbs/NBA/M.1650004005.A.F9B.html [公告] 板規v10.0\n",
            " 6/24 http://www.ptt.cc/bbs/NBA/M.1656064804.A.8E0.html [情報] 2022-23 自由市場 開市前整理   (7/26)\n",
            " 6/24 http://www.ptt.cc/bbs/NBA/M.1656064870.A.CCA.html [情報] 2022-23 自由市場 球隊異動表格 (7/26)\n",
            " 8/14 http://www.ptt.cc/bbs/NBA/M.1660435631.A.66E.html [公告] 板主徵選延長\n",
            " 8/16 http://www.ptt.cc/bbs/NBA/M.1660644058.A.2E8.html Fw: [情報] 36屆小天使招考（8/15～8/25）\n",
            "第2頁\n",
            " 8/21 http://www.ptt.cc/bbs/NBA/M.1661068435.A.2C8.html [花邊] 場館地板濕滑影響球員 西雅圖聯賽被迫取\n",
            " 8/21 http://www.ptt.cc/bbs/NBA/M.1661069850.A.1E8.html [新聞] 復健期間情緒低潮 威斯曼：變得更堅強\n",
            " 8/21 http://www.ptt.cc/bbs/NBA/M.1661070417.A.D8D.html [情報] 史上大手掌前十球員\n",
            " 8/21 http://www.ptt.cc/bbs/NBA/M.1661076371.A.6A1.html [情報] Steven Adams表達對IU的喜愛 : IU很性感 \n",
            " 8/21 http://www.ptt.cc/bbs/NBA/M.1661084333.A.624.html [花邊] Jordan Clarkson 在菲律賓夜店狂歡\n",
            " 8/21 http://www.ptt.cc/bbs/NBA/M.1661094914.A.DEB.html [情報] 青賽隊 Robert Williams 膝蓋傷勢更新\n",
            " 8/22 http://www.ptt.cc/bbs/NBA/M.1661107215.A.A2F.html [情報] 哈隊長將續約熱火\n",
            "\n",
            " 8/22 http://www.ptt.cc/bbs/NBA/M.1661117924.A.F63.html [花邊] Jamal Crawford 推特\n",
            " 8/22 http://www.ptt.cc/bbs/NBA/M.1661127307.A.C00.html [新聞] 超過1年的等待 籃網西蒙斯有望季前訓練營正式回歸\n",
            " 8/22 http://www.ptt.cc/bbs/NBA/M.1661129646.A.CB3.html [新聞] 力抗詹皇守到扭傷　雷霆竹竿榜眼霍姆葛\n",
            " 8/22 http://www.ptt.cc/bbs/NBA/M.1661131688.A.91D.html [新聞] LeBron Wade 擔任監製 Netflix將推出奧運\n",
            " 8/22 http://www.ptt.cc/bbs/NBA/M.1661136039.A.22E.html [新聞] WNBA球星獲釋得靠「小蟲」？　羅德曼將\n",
            " 8/22 http://www.ptt.cc/bbs/NBA/M.1661137966.A.EAD.html [外絮] Tatum在季後賽期間手腕骨折\n",
            " 8/22 http://www.ptt.cc/bbs/NBA/M.1661146347.A.0DA.html [情報] 史上單季1000助攻次數\n",
            " 4/15 http://www.ptt.cc/bbs/NBA/M.1650004005.A.F9B.html [公告] 板規v10.0\n",
            " 6/24 http://www.ptt.cc/bbs/NBA/M.1656064804.A.8E0.html [情報] 2022-23 自由市場 開市前整理   (7/26)\n",
            " 6/24 http://www.ptt.cc/bbs/NBA/M.1656064870.A.CCA.html [情報] 2022-23 自由市場 球隊異動表格 (7/26)\n",
            " 8/14 http://www.ptt.cc/bbs/NBA/M.1660435631.A.66E.html [公告] 板主徵選延長\n",
            " 8/16 http://www.ptt.cc/bbs/NBA/M.1660644058.A.2E8.html Fw: [情報] 36屆小天使招考（8/15～8/25）\n",
            "第3頁\n",
            " 8/21 http://www.ptt.cc/bbs/NBA/M.1661068435.A.2C8.html [花邊] 場館地板濕滑影響球員 西雅圖聯賽被迫取\n",
            " 8/21 http://www.ptt.cc/bbs/NBA/M.1661069850.A.1E8.html [新聞] 復健期間情緒低潮 威斯曼：變得更堅強\n",
            " 8/21 http://www.ptt.cc/bbs/NBA/M.1661070417.A.D8D.html [情報] 史上大手掌前十球員\n",
            " 8/21 http://www.ptt.cc/bbs/NBA/M.1661076371.A.6A1.html [情報] Steven Adams表達對IU的喜愛 : IU很性感 \n",
            " 8/21 http://www.ptt.cc/bbs/NBA/M.1661084333.A.624.html [花邊] Jordan Clarkson 在菲律賓夜店狂歡\n",
            " 8/21 http://www.ptt.cc/bbs/NBA/M.1661094914.A.DEB.html [情報] 青賽隊 Robert Williams 膝蓋傷勢更新\n",
            " 8/22 http://www.ptt.cc/bbs/NBA/M.1661107215.A.A2F.html [情報] 哈隊長將續約熱火\n",
            "\n",
            " 8/22 http://www.ptt.cc/bbs/NBA/M.1661117924.A.F63.html [花邊] Jamal Crawford 推特\n",
            " 8/22 http://www.ptt.cc/bbs/NBA/M.1661127307.A.C00.html [新聞] 超過1年的等待 籃網西蒙斯有望季前訓練營正式回歸\n",
            " 8/22 http://www.ptt.cc/bbs/NBA/M.1661129646.A.CB3.html [新聞] 力抗詹皇守到扭傷　雷霆竹竿榜眼霍姆葛\n",
            " 8/22 http://www.ptt.cc/bbs/NBA/M.1661131688.A.91D.html [新聞] LeBron Wade 擔任監製 Netflix將推出奧運\n",
            " 8/22 http://www.ptt.cc/bbs/NBA/M.1661136039.A.22E.html [新聞] WNBA球星獲釋得靠「小蟲」？　羅德曼將\n",
            " 8/22 http://www.ptt.cc/bbs/NBA/M.1661137966.A.EAD.html [外絮] Tatum在季後賽期間手腕骨折\n",
            " 8/22 http://www.ptt.cc/bbs/NBA/M.1661146347.A.0DA.html [情報] 史上單季1000助攻次數\n",
            " 4/15 http://www.ptt.cc/bbs/NBA/M.1650004005.A.F9B.html [公告] 板規v10.0\n",
            " 6/24 http://www.ptt.cc/bbs/NBA/M.1656064804.A.8E0.html [情報] 2022-23 自由市場 開市前整理   (7/26)\n",
            " 6/24 http://www.ptt.cc/bbs/NBA/M.1656064870.A.CCA.html [情報] 2022-23 自由市場 球隊異動表格 (7/26)\n",
            " 8/14 http://www.ptt.cc/bbs/NBA/M.1660435631.A.66E.html [公告] 板主徵選延長\n",
            " 8/16 http://www.ptt.cc/bbs/NBA/M.1660644058.A.2E8.html Fw: [情報] 36屆小天使招考（8/15～8/25）\n",
            "第4頁\n",
            " 8/21 http://www.ptt.cc/bbs/NBA/M.1661068435.A.2C8.html [花邊] 場館地板濕滑影響球員 西雅圖聯賽被迫取\n",
            " 8/21 http://www.ptt.cc/bbs/NBA/M.1661069850.A.1E8.html [新聞] 復健期間情緒低潮 威斯曼：變得更堅強\n",
            " 8/21 http://www.ptt.cc/bbs/NBA/M.1661070417.A.D8D.html [情報] 史上大手掌前十球員\n",
            " 8/21 http://www.ptt.cc/bbs/NBA/M.1661076371.A.6A1.html [情報] Steven Adams表達對IU的喜愛 : IU很性感 \n",
            " 8/21 http://www.ptt.cc/bbs/NBA/M.1661084333.A.624.html [花邊] Jordan Clarkson 在菲律賓夜店狂歡\n",
            " 8/21 http://www.ptt.cc/bbs/NBA/M.1661094914.A.DEB.html [情報] 青賽隊 Robert Williams 膝蓋傷勢更新\n",
            " 8/22 http://www.ptt.cc/bbs/NBA/M.1661107215.A.A2F.html [情報] 哈隊長將續約熱火\n",
            "\n",
            " 8/22 http://www.ptt.cc/bbs/NBA/M.1661117924.A.F63.html [花邊] Jamal Crawford 推特\n",
            " 8/22 http://www.ptt.cc/bbs/NBA/M.1661127307.A.C00.html [新聞] 超過1年的等待 籃網西蒙斯有望季前訓練營正式回歸\n",
            " 8/22 http://www.ptt.cc/bbs/NBA/M.1661129646.A.CB3.html [新聞] 力抗詹皇守到扭傷　雷霆竹竿榜眼霍姆葛\n",
            " 8/22 http://www.ptt.cc/bbs/NBA/M.1661131688.A.91D.html [新聞] LeBron Wade 擔任監製 Netflix將推出奧運\n",
            " 8/22 http://www.ptt.cc/bbs/NBA/M.1661136039.A.22E.html [新聞] WNBA球星獲釋得靠「小蟲」？　羅德曼將\n",
            " 8/22 http://www.ptt.cc/bbs/NBA/M.1661137966.A.EAD.html [外絮] Tatum在季後賽期間手腕骨折\n",
            " 8/22 http://www.ptt.cc/bbs/NBA/M.1661146347.A.0DA.html [情報] 史上單季1000助攻次數\n",
            " 4/15 http://www.ptt.cc/bbs/NBA/M.1650004005.A.F9B.html [公告] 板規v10.0\n",
            " 6/24 http://www.ptt.cc/bbs/NBA/M.1656064804.A.8E0.html [情報] 2022-23 自由市場 開市前整理   (7/26)\n",
            " 6/24 http://www.ptt.cc/bbs/NBA/M.1656064870.A.CCA.html [情報] 2022-23 自由市場 球隊異動表格 (7/26)\n",
            " 8/14 http://www.ptt.cc/bbs/NBA/M.1660435631.A.66E.html [公告] 板主徵選延長\n",
            " 8/16 http://www.ptt.cc/bbs/NBA/M.1660644058.A.2E8.html Fw: [情報] 36屆小天使招考（8/15～8/25）\n",
            "第5頁\n",
            " 8/21 http://www.ptt.cc/bbs/NBA/M.1661068435.A.2C8.html [花邊] 場館地板濕滑影響球員 西雅圖聯賽被迫取\n",
            " 8/21 http://www.ptt.cc/bbs/NBA/M.1661069850.A.1E8.html [新聞] 復健期間情緒低潮 威斯曼：變得更堅強\n",
            " 8/21 http://www.ptt.cc/bbs/NBA/M.1661070417.A.D8D.html [情報] 史上大手掌前十球員\n",
            " 8/21 http://www.ptt.cc/bbs/NBA/M.1661076371.A.6A1.html [情報] Steven Adams表達對IU的喜愛 : IU很性感 \n",
            " 8/21 http://www.ptt.cc/bbs/NBA/M.1661084333.A.624.html [花邊] Jordan Clarkson 在菲律賓夜店狂歡\n",
            " 8/21 http://www.ptt.cc/bbs/NBA/M.1661094914.A.DEB.html [情報] 青賽隊 Robert Williams 膝蓋傷勢更新\n",
            " 8/22 http://www.ptt.cc/bbs/NBA/M.1661107215.A.A2F.html [情報] 哈隊長將續約熱火\n",
            "\n",
            " 8/22 http://www.ptt.cc/bbs/NBA/M.1661117924.A.F63.html [花邊] Jamal Crawford 推特\n",
            " 8/22 http://www.ptt.cc/bbs/NBA/M.1661127307.A.C00.html [新聞] 超過1年的等待 籃網西蒙斯有望季前訓練營正式回歸\n",
            " 8/22 http://www.ptt.cc/bbs/NBA/M.1661129646.A.CB3.html [新聞] 力抗詹皇守到扭傷　雷霆竹竿榜眼霍姆葛\n",
            " 8/22 http://www.ptt.cc/bbs/NBA/M.1661131688.A.91D.html [新聞] LeBron Wade 擔任監製 Netflix將推出奧運\n",
            " 8/22 http://www.ptt.cc/bbs/NBA/M.1661136039.A.22E.html [新聞] WNBA球星獲釋得靠「小蟲」？　羅德曼將\n",
            " 8/22 http://www.ptt.cc/bbs/NBA/M.1661137966.A.EAD.html [外絮] Tatum在季後賽期間手腕骨折\n",
            " 8/22 http://www.ptt.cc/bbs/NBA/M.1661146347.A.0DA.html [情報] 史上單季1000助攻次數\n",
            " 4/15 http://www.ptt.cc/bbs/NBA/M.1650004005.A.F9B.html [公告] 板規v10.0\n",
            " 6/24 http://www.ptt.cc/bbs/NBA/M.1656064804.A.8E0.html [情報] 2022-23 自由市場 開市前整理   (7/26)\n",
            " 6/24 http://www.ptt.cc/bbs/NBA/M.1656064870.A.CCA.html [情報] 2022-23 自由市場 球隊異動表格 (7/26)\n",
            " 8/14 http://www.ptt.cc/bbs/NBA/M.1660435631.A.66E.html [公告] 板主徵選延長\n",
            " 8/16 http://www.ptt.cc/bbs/NBA/M.1660644058.A.2E8.html Fw: [情報] 36屆小天使招考（8/15～8/25）\n"
          ]
        }
      ]
    },
    {
      "cell_type": "code",
      "source": [
        "# 八掛版\n",
        "# https://www.ptt.cc/bbs/Gossiping/index.html\n",
        "import requests\n",
        "from bs4 import BeautifulSoup\n",
        "url = 'https://www.ptt.cc/bbs/Gossiping/index.html'\n",
        "cookies = {'over18':'1'}#這邊cookies是變數，over18是八卦版的驗證方式\n",
        "\n",
        "r = requests.get(url,cookies= cookies)#這邊cookies是參數\n",
        "sp = BeautifulSoup(r.text, 'html.parser')\n",
        "# len(sp.find_all('a', class_='btn wide')) #算有幾個\n",
        "# sp.find_all('a', class_='btn wide')[0]＃5找連結\n",
        "datas = sp.find_all(\"div\", class_='r-ent')\n",
        "for data in datas:\n",
        "    if data.a == None:\n",
        "       print('')\n",
        "    else:\n",
        "       print(data.find('div', class_ ='date').text, end = ' ')\n",
        "       print('http://www.ptt.cc' + data.a.get('href'), end = ' ')\n",
        "       print(data.a.text)"
      ],
      "metadata": {
        "colab": {
          "base_uri": "https://localhost:8080/"
        },
        "id": "bc5crSvjNr14",
        "outputId": "0e9c3650-99db-4ae2-cc93-25cc0ebb0adf"
      },
      "execution_count": 214,
      "outputs": [
        {
          "output_type": "stream",
          "name": "stdout",
          "text": [
            " 8/22 http://www.ptt.cc/bbs/Gossiping/M.1661150605.A.5AB.html [問卦] 各位覺得GTA6 會出在哪一個城市呢？\n",
            " 8/22 http://www.ptt.cc/bbs/Gossiping/M.1661150636.A.B8F.html Re: [問卦] 在美國可以持刀幹掉兩個警察的機率？\n",
            " 8/22 http://www.ptt.cc/bbs/Gossiping/M.1661150741.A.2A5.html [問卦] 台南刀神到底怎麼砍的?\n",
            " 8/22 http://www.ptt.cc/bbs/Gossiping/M.1661150744.A.EE7.html [問卦]  神隱母豬要出現了沒？\n",
            " 8/22 http://www.ptt.cc/bbs/Gossiping/M.1661150780.A.D43.html [問卦] 一個小島國怎麼那麼多問題一直發生？\n",
            " 8/22 http://www.ptt.cc/bbs/Gossiping/M.1661150844.A.704.html [問卦]  一輛衝鋒車、五個警察，總共值多少錢\n",
            " 8/22 http://www.ptt.cc/bbs/Gossiping/M.1661150858.A.DCC.html Re: [問卦] 台灣是不是滿街都是通緝犯啊?\n",
            " 8/22 http://www.ptt.cc/bbs/Gossiping/M.1661150879.A.1E4.html [問卦] 不是自己選的嗎 在那叫什麼?\n",
            " 8/22 http://www.ptt.cc/bbs/Gossiping/M.1661150881.A.8C7.html [問卦] 朋友開始沒性致怎辦\n",
            " 8/22 http://www.ptt.cc/bbs/Gossiping/M.1661150883.A.DDC.html [問卦] 芒果乾是不是也有曼德拉效應？\n",
            " 8/22 http://www.ptt.cc/bbs/Gossiping/M.1661150885.A.D82.html [問卦] 為什麼中國人講話有一種俗氣感？\n",
            " 8/22 http://www.ptt.cc/bbs/Gossiping/M.1661150892.A.DE6.html Re: [問卦] 如果學過技擊格鬥能打贏警察嗎?\n",
            " 8/22 http://www.ptt.cc/bbs/Gossiping/M.1661150892.A.BBD.html [問卦] 為什麼有槍還會被割頸??\n",
            " 8/22 http://www.ptt.cc/bbs/Gossiping/M.1661150901.A.69C.html [問卦] 為什麼現在賣場都要搞假團購\n",
            " 8/22 http://www.ptt.cc/bbs/Gossiping/M.1661150904.A.C13.html [新聞] 蔡英文哀慟不捨台南2員警殉職　下令最短時\n",
            " 8/22 http://www.ptt.cc/bbs/Gossiping/M.1661150923.A.A80.html [新聞] 中介法選後恐重啟？NCC將調整草案：獨立\n",
            " 8/22 http://www.ptt.cc/bbs/Gossiping/M.1661150924.A.0C6.html [問卦] Bump會出面偵破台南殺警案嗎??\n",
            " 8/22 http://www.ptt.cc/bbs/Gossiping/M.1661150924.A.B6F.html [問卦] 請各位朋友提早回家並且關好家戶門窗\n",
            " 8/22 http://www.ptt.cc/bbs/Gossiping/M.1661150924.A.FA0.html [問卦] 判死刑但沒執行有意義嗎\n",
            " 8/22 http://www.ptt.cc/bbs/Gossiping/M.1661150938.A.F5A.html [問卦] 如果館長遇到拿刀的亡命之徒？\n",
            " 2/21 http://www.ptt.cc/bbs/Gossiping/M.1645455874.A.65E.html [公告] 八卦板板規(2022.02.21)\n",
            " 8/01 http://www.ptt.cc/bbs/Gossiping/M.1659326580.A.6F3.html [公告]  ／｜｜｜＼八爪章魚八月份置底閒聊 \n",
            " 8/13 http://www.ptt.cc/bbs/Gossiping/M.1660382289.A.6C0.html [公告] 帳號盜用列表\n",
            " 8/15 http://www.ptt.cc/bbs/Gossiping/M.1660493221.A.5DB.html Fw: [情報] 36屆小天使招考（8/15～8/25）\n",
            " 8/18 http://www.ptt.cc/bbs/Gossiping/M.1660791549.A.987.html [公告] 八卦8/18選舉期間VPN跳板IP加罰處分 公告\n"
          ]
        }
      ]
    },
    {
      "cell_type": "code",
      "source": [
        "# 威力彩號碼爬蟲\n",
        "# https://www.taiwanlottery.com.tw/index_new.aspx\n",
        "import requests\n",
        "from bs4 import BeautifulSoup\n",
        "url = 'https://www.taiwanlottery.com.tw/index_new.aspx'\n",
        "r = requests.get(url)\n",
        "sp = BeautifulSoup(r.text, 'html.parser')\n",
        "sp.title.text.strip()"
      ],
      "metadata": {
        "colab": {
          "base_uri": "https://localhost:8080/",
          "height": 36
        },
        "id": "KtJRKbTgU4ID",
        "outputId": "eb0fa14c-a070-486b-e002-0984c3dc92c7"
      },
      "execution_count": 216,
      "outputs": [
        {
          "output_type": "execute_result",
          "data": {
            "text/plain": [
              "'台灣彩券 taiwanlottery'"
            ],
            "application/vnd.google.colaboratory.intrinsic+json": {
              "type": "string"
            }
          },
          "metadata": {},
          "execution_count": 216
        }
      ]
    },
    {
      "cell_type": "code",
      "source": [
        "# 威力彩號碼\n",
        "# len(sp.find_all('div', class_='contents_box02'))\n",
        "html = sp.find('div', class_='contents_box02')\n",
        "print(html.find('span', class_='font_black15').text)\n",
        "balls = html.find_all('div', class_='ball_tx ball_green')\n",
        "# len(html.find_all('div', class_='ball_tx ball_green')) #算出有多少個\n",
        "print(\"開出順序：\", end=' ')\n",
        "for i in range(6):\n",
        "    print(balls[i].text, end=' ')\n",
        "print(\"\\n大小順序：\", end=' ')#給一個空行 \\n分行\n",
        "for i in range(6, 12):\n",
        "    print(balls[i].text, end= ' ')\n",
        "print(\"\\n第二區：\", end=' ') #給一個空行 \\n分行\n",
        "print(html.find('div', class_='ball_red' ).text)"
      ],
      "metadata": {
        "colab": {
          "base_uri": "https://localhost:8080/"
        },
        "id": "A9tvPqkeWWny",
        "outputId": "fedcad4c-9007-412c-e13f-5e31124c24ff"
      },
      "execution_count": 256,
      "outputs": [
        {
          "output_type": "stream",
          "name": "stdout",
          "text": [
            "111/8/18 第111000066期 \n",
            "開出順序： 16  29  28  04  35  05  \n",
            "大小順序： 04  05  16  28  29  35  \n",
            "第二區： 04 \n"
          ]
        }
      ]
    },
    {
      "cell_type": "code",
      "source": [
        "# 大樂透號碼\n",
        "# len(sp.find_all('div', class_='contents_box02'))\n",
        "html = sp.find_all('div', class_='contents_box02')[2]\n",
        "print(html.find('span', class_='font_black15').text)\n",
        "balls = html.find_all('div', class_='ball_tx ball_yellow')\n",
        "# len(html.find_all('div', class_='ball_tx ball_green')) #算出有多少個\n",
        "print(\"開出順序：\", end=' ')\n",
        "for i in range(6):\n",
        "    print(balls[i].text, end=' ')\n",
        "print(\"\\n大小順序：\", end=' ')#給一個空行 \\n分行\n",
        "for i in range(6, 12):\n",
        "    print(balls[i].text, end= ' ')\n",
        "print(\"\\n特別號：\", end=' ') #給一個空行 \\n分行\n",
        "print(html.find('div', class_='ball_red' ).text)"
      ],
      "metadata": {
        "colab": {
          "base_uri": "https://localhost:8080/"
        },
        "id": "HoU2xDigc_7Z",
        "outputId": "839aef0e-5645-4919-872a-f14c105f4e67"
      },
      "execution_count": 260,
      "outputs": [
        {
          "output_type": "stream",
          "name": "stdout",
          "text": [
            "111/8/19 第111000076期 \n",
            "開出順序： 03  04  28  41  21  10  \n",
            "大小順序： 03  04  10  21  28  41  \n",
            "特別號： 15 \n"
          ]
        }
      ]
    },
    {
      "cell_type": "markdown",
      "source": [
        "## 專題：影城電影資料爬蟲\n",
        "\n",
        "網址：[日日新影城-熱映電影](https://srm.com.tw/%e9%9b%bb%e5%bd%b1%e7%b0%a1%e4%bb%8b/%e7%86%b1%e6%98%a0%e4%b8%ad/ '熱映電影')\n",
        "\n",
        "任務：\n",
        "- 請收集電影名稱、說明網址及上映時間\n",
        "- 請下載電影海報照片儲存在`photos`資料夾"
      ],
      "metadata": {
        "id": "H1YpCbZHeo-w"
      }
    },
    {
      "cell_type": "code",
      "source": [
        "import requests\n",
        "from bs4 import BeautifulSoup\n",
        "url = 'https://srm.com.tw/%e9%9b%bb%e5%bd%b1%e7%b0%a1%e4%bb%8b/%e7%86%b1%e6%98%a0%e4%b8%ad/'\n",
        "r = requests.get(url)\n",
        "# r.text\n",
        "sp = BeautifulSoup(r.text, 'html.parser')\n",
        "# sp.title.text"
      ],
      "metadata": {
        "colab": {
          "base_uri": "https://localhost:8080/",
          "height": 36
        },
        "id": "4SpVkxIGqt1I",
        "outputId": "1b38ab85-bf02-4c8c-8d14-62963bc22a2c"
      },
      "execution_count": 265,
      "outputs": [
        {
          "output_type": "execute_result",
          "data": {
            "text/plain": [
              "'熱映中 - 日日新影城'"
            ],
            "application/vnd.google.colaboratory.intrinsic+json": {
              "type": "string"
            }
          },
          "metadata": {},
          "execution_count": 265
        }
      ]
    },
    {
      "cell_type": "code",
      "source": [
        "import os\n",
        "if not os.path.exists('photos'):\n",
        "    os.mkdir('photos')\n",
        "# len(sp.find_all('article'))\n",
        "for i in range(len(sp.find_all('article'))):\n",
        "    print(sp.find_all('article')[i].find('h3').a.text)\n",
        "    print(sp.find_all('article')[i].find('h3').a.get('href'))\n",
        "    print(sp.find_all('article')[i].find('div', itemprop=\"text\").text)\n",
        "    print(sp.find_all('article')[i].img['src'])\n",
        "    \n",
        "    with open('photos/' + sp.find_all('article')[i].find('h3').a.text + '.jpg', 'wb') as f:\n",
        "        f.write(requests.get(sp.find_all('article')[i].img['src']).content)\n",
        "    print()#美觀用"
      ],
      "metadata": {
        "colab": {
          "base_uri": "https://localhost:8080/"
        },
        "id": "kd9SuYGYsIAu",
        "outputId": "13ba3795-2322-49b6-dadf-21d7296604c8"
      },
      "execution_count": 283,
      "outputs": [
        {
          "output_type": "stream",
          "name": "stdout",
          "text": [
            "神探大戰\n",
            "https://srm.com.tw/portfolio-item/%e7%a5%9e%e6%8e%a2%e5%a4%a7%e6%88%b0/\n",
            "上映日期：2022.08.19\n",
            "https://srm.com.tw/wp-content/uploads/2022/07/Detective-Vs.Sleuthes.jpg\n",
            "\n",
            "天黑請斃命\n",
            "https://srm.com.tw/portfolio-item/%e5%a4%a9%e9%bb%91%e8%ab%8b%e6%96%83%e5%91%bd/\n",
            "上映日期：2022.08.19\n",
            "https://srm.com.tw/wp-content/uploads/2022/07/Bodies-Bodies-Bodies.jpg\n",
            "\n",
            "獸\n",
            "https://srm.com.tw/portfolio-item/%e7%8d%b8/\n",
            "上映日期：2022.08.19\n",
            "https://srm.com.tw/wp-content/uploads/2022/06/Beast..jpg\n",
            "\n",
            "航海王劇場版：紅髮歌姬\n",
            "https://srm.com.tw/portfolio-item/%e8%88%aa%e6%b5%b7%e7%8e%8b%e5%8a%87%e5%a0%b4%e7%89%88%ef%bc%9a%e7%b4%85%e9%ab%ae%e6%ad%8c%e5%a7%ac/\n",
            "上映日期：2022.08.19\n",
            "https://srm.com.tw/wp-content/uploads/2022/07/One-Piece-Film-Red.jpg\n",
            "\n",
            "緊急迫降\n",
            "https://srm.com.tw/portfolio-item/%e7%b7%8a%e6%80%a5%e8%bf%ab%e9%99%8d/\n",
            "上映日期：2022.08.12\n",
            "https://srm.com.tw/wp-content/uploads/2022/06/Emergency-Declaration.jpg\n",
            "\n",
            "不！\n",
            "https://srm.com.tw/portfolio-item/%e4%b8%8d%ef%bc%81/\n",
            "上映日期：2022.08.12\n",
            "https://srm.com.tw/wp-content/uploads/2022/07/Nope..jpg\n",
            "\n",
            "DC超級寵物軍團\n",
            "https://srm.com.tw/portfolio-item/dc%e8%b6%85%e7%b4%9a%e5%af%b5%e7%89%a9%e8%bb%8d%e5%9c%98/\n",
            "上映日期：2022.08.11\n",
            "https://srm.com.tw/wp-content/uploads/2022/06/DC-League-of-Super-Pets.jpg\n",
            "\n",
            "角落小夥伴電影版：藍色月夜的魔法之子\n",
            "https://srm.com.tw/portfolio-item/%e8%a7%92%e8%90%bd%e5%b0%8f%e5%a4%a5%e4%bc%b4%e9%9b%bb%e5%bd%b1%e7%89%88%ef%bc%9a%e8%97%8d%e8%89%b2%e6%9c%88%e5%a4%9c%e7%9a%84%e9%ad%94%e6%b3%95%e4%b9%8b%e5%ad%90/\n",
            "上映日期：2022.08.05\n",
            "https://srm.com.tw/wp-content/uploads/2022/07/Sumikkogurashi-The-Little-Wizard-in-the-Blue-Moonlight.jpg\n",
            "\n",
            "子彈列車\n",
            "https://srm.com.tw/portfolio-item/%e5%ad%90%e5%bd%88%e5%88%97%e8%bb%8a/\n",
            "上映日期：2022.08.03\n",
            "https://srm.com.tw/wp-content/uploads/2022/07/Bullet-Train.jpg\n",
            "\n",
            "民雄鬼屋\n",
            "https://srm.com.tw/portfolio-item/%e6%b0%91%e9%9b%84%e9%ac%bc%e5%b1%8b/\n",
            "上映日期：2022.07.29\n",
            "https://srm.com.tw/wp-content/uploads/2022/06/Minxiong-Haunted-House..jpg\n",
            "\n",
            "小小兵2：格魯的崛起\n",
            "https://srm.com.tw/portfolio-item/%e5%b0%8f%e5%b0%8f%e5%85%b52%ef%bc%9a%e6%a0%bc%e9%ad%af%e7%9a%84%e5%b4%9b%e8%b5%b7/\n",
            "上映日期：2022.07.20\n",
            "https://srm.com.tw/wp-content/uploads/2022/06/Minions-The-Rise-of-Guru..jpg\n",
            "\n",
            "捍衛戰士：獨行俠\n",
            "https://srm.com.tw/portfolio-item/%e6%8d%8d%e8%a1%9b%e6%88%b0%e5%a3%ab%ef%bc%9a%e7%8d%a8%e8%a1%8c%e4%bf%a0/\n",
            "上映日期：2022.05.25\n",
            "https://srm.com.tw/wp-content/uploads/2022/04/Top-Gun-Maverick..jpg\n",
            "\n"
          ]
        }
      ]
    },
    {
      "cell_type": "code",
      "source": [
        "print(sp.find_all('article')[0].img['src'])"
      ],
      "metadata": {
        "colab": {
          "base_uri": "https://localhost:8080/"
        },
        "id": "LtbcML2uxo_P",
        "outputId": "cb7f104a-0308-4c66-f348-866f9520497e"
      },
      "execution_count": 280,
      "outputs": [
        {
          "output_type": "stream",
          "name": "stdout",
          "text": [
            "https://srm.com.tw/wp-content/uploads/2022/07/Detective-Vs.Sleuthes.jpg\n"
          ]
        }
      ]
    },
    {
      "cell_type": "markdown",
      "source": [
        "# 非同步載入爬蟲 Ajax\n",
        "網站\n",
        "https://sites.google.com/cdc.gov.tw/2019ncov/taiwan"
      ],
      "metadata": {
        "id": "kq8le5y64n-_"
      }
    },
    {
      "cell_type": "code",
      "source": [
        "import requests\n",
        "from bs4 import BeautifulSoup\n",
        "url = 'https://covid19dashboard.cdc.gov.tw/dash3'\n",
        "r = requests.get(url)\n",
        "# sp = BeautifulSoup(r.text, 'html.parser')\n",
        "# print(r.text)\n",
        "# r.text\n",
        "data = r.json()"
      ],
      "metadata": {
        "id": "Yh5qiM3145AG"
      },
      "execution_count": 6,
      "outputs": []
    },
    {
      "cell_type": "code",
      "source": [
        "print(data['0']['送驗'])\n",
        "print(data['0']['排除'])"
      ],
      "metadata": {
        "colab": {
          "base_uri": "https://localhost:8080/"
        },
        "id": "_qE5GFDn70LZ",
        "outputId": "8b6a2ede-6a43-420b-f9c3-0fcfa0d6fce1"
      },
      "execution_count": 296,
      "outputs": [
        {
          "output_type": "stream",
          "name": "stdout",
          "text": [
            "15,747,055\n",
            "10,679,098\n"
          ]
        }
      ]
    },
    {
      "cell_type": "markdown",
      "source": [
        "# 寫入Google試算表\n",
        "\n",
        "## 步驟\n",
        "* 登入Google Cloud Console網站\n",
        "    * \u000bhttps://console.cloud.google.com\n",
        "* 新增專案(免費使用者只能開12個專案)\n",
        "* 加入要使用的API並啟用(此處啟用Google Sheet API)\n",
        "* 建立憑證(JSON類型)\n",
        "    * 選擇建立憑證/服務帳戶金鑰\n",
        "    * 設定服務帳戶ID(可用預設或自訂，全ID會組合成電子郵件格式)\n",
        "* 選擇JSON金鑰類型\n",
        "* 建立後瀏覽器會下載.json格式金鑰檔到本機，請與Python程式放在一起"
      ],
      "metadata": {
        "id": "p6yAWy31ZV-I"
      }
    },
    {
      "cell_type": "code",
      "source": [
        "!pip install gspread oauth2client"
      ],
      "metadata": {
        "id": "5njaP8D9cvCW"
      },
      "execution_count": null,
      "outputs": []
    },
    {
      "cell_type": "code",
      "source": [
        "# https://console.developers.google.com\n",
        "import gspread, time\n",
        "from oauth2client.service_account import ServiceAccountCredentials as sac\n",
        "# 設定金鑰檔路徑及驗證範圍\n",
        "auth_json = 'exalted-kayak-360211-77172b4a6c5a.json'\n",
        "gs_scopes = ['https://spreadsheets.google.com/feeds']\n",
        "# 連線資料表\n",
        "cr = sac.from_json_keyfile_name(auth_json, gs_scopes)\n",
        "gc = gspread.authorize(cr) \n",
        "# 開啟資料表\n",
        "spreadsheet_key = '11tKzq0srdcXVfZLIKsollz4JH248rVl5G_Ba1EHzEko' \n",
        "sheet = gc.open_by_key(spreadsheet_key)\n",
        "\n",
        "# 開啟工作表\n",
        "wks = sheet.sheet1\n",
        "# 清除所有內容\n",
        "wks.clear()\n",
        "\n",
        "# 開啟工作表\n",
        "fruits = ['Apple', 'Banana', 'Cherry'] #寫入資訊\n",
        "wks.append_row(fruits)"
      ],
      "metadata": {
        "colab": {
          "base_uri": "https://localhost:8080/"
        },
        "id": "ypupKrJTlAnI",
        "outputId": "96677eb7-b5b2-47d4-caae-5117e7bc47d3"
      },
      "execution_count": 2,
      "outputs": [
        {
          "output_type": "execute_result",
          "data": {
            "text/plain": [
              "{'spreadsheetId': '11tKzq0srdcXVfZLIKsollz4JH248rVl5G_Ba1EHzEko',\n",
              " 'updates': {'spreadsheetId': '11tKzq0srdcXVfZLIKsollz4JH248rVl5G_Ba1EHzEko',\n",
              "  'updatedRange': \"'工作表1'!A1:C1\",\n",
              "  'updatedRows': 1,\n",
              "  'updatedColumns': 3,\n",
              "  'updatedCells': 3}}"
            ]
          },
          "metadata": {},
          "execution_count": 2
        }
      ]
    },
    {
      "cell_type": "code",
      "source": [
        "# 取得工作表資訊\n",
        "wks.spreadsheet"
      ],
      "metadata": {
        "colab": {
          "base_uri": "https://localhost:8080/"
        },
        "id": "piNgdw0nwy-w",
        "outputId": "7fcdb8e0-0120-40c1-9300-dd447067e259"
      },
      "execution_count": 3,
      "outputs": [
        {
          "output_type": "execute_result",
          "data": {
            "text/plain": [
              "<Spreadsheet '測試連線試算表' id:11tKzq0srdcXVfZLIKsollz4JH248rVl5G_Ba1EHzEko>"
            ]
          },
          "metadata": {},
          "execution_count": 3
        }
      ]
    },
    {
      "cell_type": "code",
      "source": [
        "# 開啟工作表\n",
        "wks = sheet.sheet1\n",
        "# 清除所有內容\n",
        "wks.clear()\n",
        "\n",
        "import csv, time\n",
        "# 用 wks.append_row()寫入資料\n",
        "with open('covid-19.csv', 'r') as f:\n",
        "       data = csv.reader(f)#讀取的資料存到data中\n",
        "       for item in data: #從資料拿出每一列出來\n",
        "             wks.append_row(item) #將一列寫入(試算表限制一分鐘只能寫入60次)\n",
        "             time.sleep(1)"
      ],
      "metadata": {
        "id": "SiENQaKz0fh4"
      },
      "execution_count": 9,
      "outputs": []
    }
  ]
}