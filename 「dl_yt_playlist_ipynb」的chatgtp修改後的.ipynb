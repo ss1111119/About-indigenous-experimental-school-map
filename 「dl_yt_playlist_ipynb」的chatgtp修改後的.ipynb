{
  "nbformat": 4,
  "nbformat_minor": 0,
  "metadata": {
    "colab": {
      "provenance": [],
      "history_visible": true,
      "include_colab_link": true
    },
    "kernelspec": {
      "name": "python3",
      "display_name": "Python 3"
    }
  },
  "cells": [
    {
      "cell_type": "markdown",
      "metadata": {
        "id": "view-in-github",
        "colab_type": "text"
      },
      "source": [
        "<a href=\"https://colab.research.google.com/github/ss1111119/About-indigenous-experimental-school-map/blob/main/%E3%80%8Cdl_yt_playlist_ipynb%E3%80%8D%E7%9A%84chatgtp%E4%BF%AE%E6%94%B9%E5%BE%8C%E7%9A%84.ipynb\" target=\"_parent\"><img src=\"https://colab.research.google.com/assets/colab-badge.svg\" alt=\"Open In Colab\"/></a>"
      ]
    },
    {
      "cell_type": "markdown",
      "metadata": {
        "id": "P7_DoS3ARXLT"
      },
      "source": [
        "# Download a list of youtube files and save in drive folder\n",
        "<ol>\n",
        "<li>Make a modifiable copy with File -> Open a Copy in colab</li>\n",
        "<li>Mount your drive by clicking the drive icon in the file explorer on the left</li>\n",
        "<li>Modify the youtube in yt_urls</li>\n",
        "<li>Change output_folder to the folder you wish to store mp3's</li>\n",
        "<li>Run cells, et voila, you have youtube playlist as mp3's in your drive</li>\n",
        "</ol>\n",
        "\n",
        "\n",
        "# note: you can test this notebook by just running the cells in order below\n"
      ]
    },
    {
      "cell_type": "code",
      "metadata": {
        "id": "_0SXspzOm7kD"
      },
      "source": [
        "!pip install --upgrade youtube_dl\n",
        "!apt -y install ffmpeg lame"
      ],
      "execution_count": null,
      "outputs": []
    },
    {
      "cell_type": "code",
      "metadata": {
        "id": "W7bW6g_AwxfX"
      },
      "source": [
        "# Change this to the youtube urls you want\n",
        "yt_urls = ['https://www.youtube.com/watch?v=6dSDy4Oe80E']\n",
        "\n",
        "# change this to /content/drive/My Drive/folder_you_want\n",
        "output_folder = '/content/drive/My Drive/Colab Notebooks/'\n",
        "\n",
        "import os\n",
        "def my_mkdirs(folder):\n",
        "  if os.path.exists(folder)==False:\n",
        "    os.makedirs(folder)\n",
        "my_mkdirs('/content/tmp/')\n",
        "\n",
        "my_mkdirs(output_folder)"
      ],
      "execution_count": null,
      "outputs": []
    },
    {
      "cell_type": "code",
      "metadata": {
        "id": "S2a09176Ni1w",
        "outputId": "5042ce5d-d08b-4004-dc9c-e39bafcf9701",
        "colab": {
          "base_uri": "https://localhost:8080/"
        }
      },
      "source": [
        "# download youtube videos\n",
        "for ind,url in enumerate(yt_urls):\n",
        "  !youtube-dl $url -f 'bestaudio[ext=m4a]' -o 'tmp/%(title)s.m4a'\n",
        "# !youtube-dl https://www.youtube.com/watch?v=Mhi6Lb52ZbM -f 'bestaudio[ext=m4a]' -o tmp3.m4a"
      ],
      "execution_count": null,
      "outputs": [
        {
          "output_type": "stream",
          "name": "stdout",
          "text": [
            "[youtube] 6dSDy4Oe80E: Downloading webpage\n",
            "[download] Destination: tmp/Astrid S - Dance Dance Dance (Official Lyric Video).m4a\n",
            "\u001b[K[download] 100% of 2.47MiB in 00:39\n",
            "[ffmpeg] Correcting container in \"tmp/Astrid S - Dance Dance Dance (Official Lyric Video).m4a\"\n"
          ]
        }
      ]
    },
    {
      "cell_type": "code",
      "metadata": {
        "id": "bZgkWE2czE-o",
        "outputId": "7308d146-d181-44ec-8583-bcccc7c6f660",
        "colab": {
          "base_uri": "https://localhost:8080/"
        }
      },
      "source": [
        "# convert to mp3 and move to drive\n",
        "import glob\n",
        "files = glob.glob('/content/tmp/*')\n",
        "print(files)\n",
        "for file in files:\n",
        "  out_file = f'{output_folder}{file[18:-6]}.mp3'\n",
        "  file = file.replace(' ',' ')\n",
        "  out_file = out_file.replace(' ',' ')\n",
        "  !ffmpeg -i \"$file\" -vn -ab 128k -ar 44100 -y \"$out_file\""
      ],
      "execution_count": null,
      "outputs": [
        {
          "output_type": "stream",
          "name": "stdout",
          "text": [
            "['/content/tmp/Astrid S - Dance Dance Dance (Official Lyric Video).m4a']\n",
            "ffmpeg version 4.2.7-0ubuntu0.1 Copyright (c) 2000-2022 the FFmpeg developers\n",
            "  built with gcc 9 (Ubuntu 9.4.0-1ubuntu1~20.04.1)\n",
            "  configuration: --prefix=/usr --extra-version=0ubuntu0.1 --toolchain=hardened --libdir=/usr/lib/x86_64-linux-gnu --incdir=/usr/include/x86_64-linux-gnu --arch=amd64 --enable-gpl --disable-stripping --enable-avresample --disable-filter=resample --enable-avisynth --enable-gnutls --enable-ladspa --enable-libaom --enable-libass --enable-libbluray --enable-libbs2b --enable-libcaca --enable-libcdio --enable-libcodec2 --enable-libflite --enable-libfontconfig --enable-libfreetype --enable-libfribidi --enable-libgme --enable-libgsm --enable-libjack --enable-libmp3lame --enable-libmysofa --enable-libopenjpeg --enable-libopenmpt --enable-libopus --enable-libpulse --enable-librsvg --enable-librubberband --enable-libshine --enable-libsnappy --enable-libsoxr --enable-libspeex --enable-libssh --enable-libtheora --enable-libtwolame --enable-libvidstab --enable-libvorbis --enable-libvpx --enable-libwavpack --enable-libwebp --enable-libx265 --enable-libxml2 --enable-libxvid --enable-libzmq --enable-libzvbi --enable-lv2 --enable-omx --enable-openal --enable-opencl --enable-opengl --enable-sdl2 --enable-libdc1394 --enable-libdrm --enable-libiec61883 --enable-nvenc --enable-chromaprint --enable-frei0r --enable-libx264 --enable-shared\n",
            "  libavutil      56. 31.100 / 56. 31.100\n",
            "  libavcodec     58. 54.100 / 58. 54.100\n",
            "  libavformat    58. 29.100 / 58. 29.100\n",
            "  libavdevice    58.  8.100 / 58.  8.100\n",
            "  libavfilter     7. 57.100 /  7. 57.100\n",
            "  libavresample   4.  0.  0 /  4.  0.  0\n",
            "  libswscale      5.  5.100 /  5.  5.100\n",
            "  libswresample   3.  5.100 /  3.  5.100\n",
            "  libpostproc    55.  5.100 / 55.  5.100\n",
            "Input #0, mov,mp4,m4a,3gp,3g2,mj2, from '/content/tmp/Astrid S - Dance Dance Dance (Official Lyric Video).m4a':\n",
            "  Metadata:\n",
            "    major_brand     : isom\n",
            "    minor_version   : 512\n",
            "    compatible_brands: isomiso2mp41\n",
            "    encoder         : Lavf58.29.100\n",
            "  Duration: 00:02:40.06, start: 0.000000, bitrate: 129 kb/s\n",
            "    Stream #0:0(eng): Audio: aac (LC) (mp4a / 0x6134706D), 44100 Hz, stereo, fltp, 127 kb/s (default)\n",
            "    Metadata:\n",
            "      handler_name    : ISO Media file produced by Google Inc.\n",
            "Stream mapping:\n",
            "  Stream #0:0 -> #0:0 (aac (native) -> mp3 (libmp3lame))\n",
            "Press [q] to stop, [?] for help\n",
            "Output #0, mp3, to '/content/drive/My Drive/Colab Notebooks/d S - Dance Dance Dance (Official Lyric Vide.mp3':\n",
            "  Metadata:\n",
            "    major_brand     : isom\n",
            "    minor_version   : 512\n",
            "    compatible_brands: isomiso2mp41\n",
            "    TSSE            : Lavf58.29.100\n",
            "    Stream #0:0(eng): Audio: mp3 (libmp3lame), 44100 Hz, stereo, fltp, 128 kb/s (default)\n",
            "    Metadata:\n",
            "      handler_name    : ISO Media file produced by Google Inc.\n",
            "      encoder         : Lavc58.54.100 libmp3lame\n",
            "size=    2502kB time=00:02:40.07 bitrate= 128.0kbits/s speed=40.2x    \n",
            "video:0kB audio:2502kB subtitle:0kB other streams:0kB global headers:0kB muxing overhead: 0.021900%\n"
          ]
        }
      ]
    },
    {
      "cell_type": "code",
      "source": [],
      "metadata": {
        "id": "7_Bd2cbsv9RW"
      },
      "execution_count": null,
      "outputs": []
    }
  ]
}