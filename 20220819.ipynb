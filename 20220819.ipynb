{
  "nbformat": 4,
  "nbformat_minor": 0,
  "metadata": {
    "colab": {
      "name": "20220819.ipynb",
      "provenance": [],
      "authorship_tag": "ABX9TyNDWcx/L/iyjPo1bOpu9aMz",
      "include_colab_link": true
    },
    "kernelspec": {
      "name": "python3",
      "display_name": "Python 3"
    },
    "language_info": {
      "name": "python"
    }
  },
  "cells": [
    {
      "cell_type": "markdown",
      "metadata": {
        "id": "view-in-github",
        "colab_type": "text"
      },
      "source": [
        "<a href=\"https://colab.research.google.com/github/ss1111119/About-indigenous-experimental-school-map/blob/main/20220819.ipynb\" target=\"_parent\"><img src=\"https://colab.research.google.com/assets/colab-badge.svg\" alt=\"Open In Colab\"/></a>"
      ]
    },
    {
      "cell_type": "markdown",
      "source": [
        "# 亂數模組"
      ],
      "metadata": {
        "id": "f_PKV_3YHCsU"
      }
    },
    {
      "cell_type": "code",
      "source": [
        "#使用自建模組\n",
        "import tool as t"
      ],
      "metadata": {
        "id": "vg5P952nII9j"
      },
      "execution_count": null,
      "outputs": []
    },
    {
      "cell_type": "code",
      "source": [
        "t.hello()"
      ],
      "metadata": {
        "colab": {
          "base_uri": "https://localhost:8080/",
          "height": 253
        },
        "id": "qH_Ol0eZI6pI",
        "outputId": "1494adbe-8b02-4a8c-d0b5-387f499b7601"
      },
      "execution_count": null,
      "outputs": [
        {
          "output_type": "error",
          "ename": "TypeError",
          "evalue": "ignored",
          "traceback": [
            "\u001b[0;31m---------------------------------------------------------------------------\u001b[0m",
            "\u001b[0;31mTypeError\u001b[0m                                 Traceback (most recent call last)",
            "\u001b[0;32m<ipython-input-27-56217e80aac0>\u001b[0m in \u001b[0;36m<module>\u001b[0;34m\u001b[0m\n\u001b[0;32m----> 1\u001b[0;31m \u001b[0mt\u001b[0m\u001b[0;34m.\u001b[0m\u001b[0mhello\u001b[0m\u001b[0;34m(\u001b[0m\u001b[0;34m)\u001b[0m\u001b[0;34m\u001b[0m\u001b[0;34m\u001b[0m\u001b[0m\n\u001b[0m",
            "\u001b[0;32m/content/tool.py\u001b[0m in \u001b[0;36mhello\u001b[0;34m()\u001b[0m\n\u001b[1;32m      2\u001b[0m \u001b[0;34m\u001b[0m\u001b[0m\n\u001b[1;32m      3\u001b[0m \u001b[0;32mdef\u001b[0m \u001b[0mhello\u001b[0m\u001b[0;34m(\u001b[0m\u001b[0;34m)\u001b[0m\u001b[0;34m:\u001b[0m\u001b[0;34m\u001b[0m\u001b[0;34m\u001b[0m\u001b[0m\n\u001b[0;32m----> 4\u001b[0;31m     \u001b[0mprint\u001b[0m\u001b[0;34m(\u001b[0m\u001b[0;34m'Hello'\u001b[0m\u001b[0;34m)\u001b[0m\u001b[0;34m\u001b[0m\u001b[0;34m\u001b[0m\u001b[0m\n\u001b[0m",
            "\u001b[0;31mTypeError\u001b[0m: 'builtin_function_or_method' object is not subscriptable"
          ]
        }
      ]
    },
    {
      "cell_type": "code",
      "source": [
        "import random as r"
      ],
      "metadata": {
        "id": "k8F9THpDeiDi"
      },
      "execution_count": null,
      "outputs": []
    },
    {
      "cell_type": "code",
      "source": [
        "r.randint(1, 6)"
      ],
      "metadata": {
        "colab": {
          "base_uri": "https://localhost:8080/"
        },
        "id": "GZydx9rueqkh",
        "outputId": "fabd603e-6974-40eb-8ce9-e4210a85f381"
      },
      "execution_count": null,
      "outputs": [
        {
          "output_type": "execute_result",
          "data": {
            "text/plain": [
              "2"
            ]
          },
          "metadata": {},
          "execution_count": 29
        }
      ]
    },
    {
      "cell_type": "code",
      "source": [
        "r.choice('12345')\n",
        "r.choice([1,2,3,4,5,6])\n",
        "r.sample([1,2,3,4,5,6],3)"
      ],
      "metadata": {
        "colab": {
          "base_uri": "https://localhost:8080/"
        },
        "id": "MrLcSh9H7Xnz",
        "outputId": "55fe8372-f8ee-44d0-b62c-d9ff71a21f25"
      },
      "execution_count": null,
      "outputs": [
        {
          "output_type": "execute_result",
          "data": {
            "text/plain": [
              "[3, 2, 6]"
            ]
          },
          "metadata": {},
          "execution_count": 6
        }
      ]
    },
    {
      "cell_type": "markdown",
      "source": [
        "# 範例：擲骰子遊戲"
      ],
      "metadata": {
        "id": "Pyrr8bDAe-fx"
      }
    },
    {
      "cell_type": "code",
      "source": [
        "# 擲骰子遊戲\n",
        "\n",
        "while True:\n",
        "inkey = input(\"請輸入任何鍵再按【Enter】鍵擲骰子，直接按【Enter】鍵結束：\")\n",
        "num = r.randint(1, 6)\n",
        "num"
      ],
      "metadata": {
        "colab": {
          "base_uri": "https://localhost:8080/"
        },
        "id": "vGY9Oys_5bP8",
        "outputId": "a857b1ad-1523-49eb-f5b2-22e2d407ef42"
      },
      "execution_count": null,
      "outputs": [
        {
          "name": "stdout",
          "output_type": "stream",
          "text": [
            "請輸入任何鍵再按【Enter】鍵擲骰子，直接按【Enter】鍵結束：34\n"
          ]
        },
        {
          "output_type": "execute_result",
          "data": {
            "text/plain": [
              "2"
            ]
          },
          "metadata": {},
          "execution_count": 32
        }
      ]
    },
    {
      "cell_type": "code",
      "source": [
        "# 擲骰子遊戲\n",
        "import random as r\n",
        "\n",
        "while True:\n",
        "  inkey = input(\"請輸入任何鍵再按【Enter】鍵擲骰子，直接按【Enter】鍵結束：\")\n",
        "  if inkey == '':\n",
        "      print(\"結束遊戲\")\n",
        "      break\n",
        "  else:\n",
        "    num = r.randint(1, 6)\n",
        "    print(\"你擲的骰子點數為：\" + str(num))"
      ],
      "metadata": {
        "colab": {
          "base_uri": "https://localhost:8080/"
        },
        "id": "YbmA6gcJ8NSw",
        "outputId": "dc263867-7d07-46b3-b714-c9d1858de809"
      },
      "execution_count": null,
      "outputs": [
        {
          "output_type": "stream",
          "name": "stdout",
          "text": [
            "請輸入任何鍵再按【Enter】鍵擲骰子，直接按【Enter】鍵結束：e\n",
            "你擲的骰子點數為：4\n",
            "請輸入任何鍵再按【Enter】鍵擲骰子，直接按【Enter】鍵結束：\n",
            "結束遊戲\n"
          ]
        }
      ]
    },
    {
      "cell_type": "code",
      "source": [
        "import random as r\n",
        "\n",
        "str1 = '⚀⚁⚂⚃⚄⚅'\n",
        "# num = 1\n",
        "# print(num)\n",
        "# print(str1[num-1])\n",
        "while True:\n",
        "    inkey=input(\"請輸入任意鍵再按【Enter】鍵擲骰子，直接按【Enter】鍵結束:\")\n",
        "    if inkey == '':\n",
        "        print('結束遊戲')\n",
        "        break\n",
        "    else:\n",
        "      num = r.randint(1, 6)\n",
        "      print(\"你擲的骰子點數為：\" + str1[num-1])"
      ],
      "metadata": {
        "colab": {
          "base_uri": "https://localhost:8080/"
        },
        "id": "kbZF_7fTPWl_",
        "outputId": "3ce31137-629d-4a1b-e9e2-380b1520a297"
      },
      "execution_count": null,
      "outputs": [
        {
          "output_type": "stream",
          "name": "stdout",
          "text": [
            "請輸入任意鍵再按【Enter】鍵擲骰子，直接按【Enter】鍵結束:a\n",
            "你擲的骰子點數為：⚀\n",
            "請輸入任意鍵再按【Enter】鍵擲骰子，直接按【Enter】鍵結束:s\n",
            "你擲的骰子點數為：⚅\n",
            "請輸入任意鍵再按【Enter】鍵擲骰子，直接按【Enter】鍵結束:d\n",
            "你擲的骰子點數為：⚁\n",
            "請輸入任意鍵再按【Enter】鍵擲骰子，直接按【Enter】鍵結束:\n",
            "結束遊戲\n"
          ]
        }
      ]
    },
    {
      "cell_type": "markdown",
      "source": [
        "# 範例：大樂透中獎號碼"
      ],
      "metadata": {
        "id": "dp1Cbo-sOZdB"
      }
    },
    {
      "cell_type": "code",
      "source": [
        "# 大樂透中獎號碼\n",
        "import random as r\n",
        "list1 = r.sample(range(1, 50),7)\n",
        "special = list1.pop()\n",
        "list1.sort()\n",
        "# print(list1, special)\n",
        "\n",
        "print(\"本期大樂透中獎號碼為：\" , end = \"\")\n",
        "for i in range(0, 6): #在[]取出來。\n",
        "    if i == 5:\n",
        "      print(str(list1[i]))\n",
        "    else:\n",
        "      print(str(list1[i]),end = ',')\n",
        "print(\"本期大樂透特別號碼為：\" + str(special))"
      ],
      "metadata": {
        "id": "dfg4Qj-JOlXk",
        "colab": {
          "base_uri": "https://localhost:8080/"
        },
        "outputId": "33694cce-b5db-493f-bb8a-aa89fdcc51f1"
      },
      "execution_count": null,
      "outputs": [
        {
          "output_type": "stream",
          "name": "stdout",
          "text": [
            "本期大樂透中獎號碼為：1,14,19,20,29,49\n",
            "本期大樂透特別號碼為：17\n"
          ]
        }
      ]
    },
    {
      "cell_type": "markdown",
      "source": [
        "## 練習：大樂透開獎-使用 shuffle 函式"
      ],
      "metadata": {
        "id": "qNJHywmw_s6a"
      }
    },
    {
      "cell_type": "markdown",
      "source": [
        "# 時間模組"
      ],
      "metadata": {
        "id": "YQLqLEdI_3te"
      }
    },
    {
      "cell_type": "markdown",
      "source": [
        "## 常用時間函式\n",
        "> time()、sleep()、ctime()、localtime()"
      ],
      "metadata": {
        "id": "yuURniC4BKCM"
      }
    },
    {
      "cell_type": "code",
      "source": [
        "import time"
      ],
      "metadata": {
        "id": "St9Ij6M0BXOg"
      },
      "execution_count": null,
      "outputs": []
    },
    {
      "cell_type": "code",
      "source": [
        "help(time.sleep)"
      ],
      "metadata": {
        "colab": {
          "base_uri": "https://localhost:8080/"
        },
        "id": "o1CW11R4Bl0N",
        "outputId": "66f1b0b1-8266-47af-ac70-67ec10fa86e4"
      },
      "execution_count": null,
      "outputs": [
        {
          "output_type": "stream",
          "name": "stdout",
          "text": [
            "Help on built-in function sleep in module time:\n",
            "\n",
            "sleep(...)\n",
            "    sleep(seconds)\n",
            "    \n",
            "    Delay execution for a given number of seconds.  The argument may be\n",
            "    a floating point number for subsecond precision.\n",
            "\n"
          ]
        }
      ]
    },
    {
      "cell_type": "code",
      "source": [
        "time.ctime()[-4:]"
      ],
      "metadata": {
        "colab": {
          "base_uri": "https://localhost:8080/",
          "height": 36
        },
        "id": "n7q5LPkOOEtm",
        "outputId": "5192b52c-8fb0-4934-ccf9-e9ec6e80e292"
      },
      "execution_count": null,
      "outputs": [
        {
          "output_type": "execute_result",
          "data": {
            "text/plain": [
              "'2022'"
            ],
            "application/vnd.google.colaboratory.intrinsic+json": {
              "type": "string"
            }
          },
          "metadata": {},
          "execution_count": 29
        }
      ]
    },
    {
      "cell_type": "code",
      "source": [
        "time.time()"
      ],
      "metadata": {
        "colab": {
          "base_uri": "https://localhost:8080/",
          "height": 167
        },
        "id": "6icCsr8DJ3z1",
        "outputId": "32896494-38a3-4c2a-80e9-b69c836ba814"
      },
      "execution_count": null,
      "outputs": [
        {
          "output_type": "error",
          "ename": "TypeError",
          "evalue": "ignored",
          "traceback": [
            "\u001b[0;31m---------------------------------------------------------------------------\u001b[0m",
            "\u001b[0;31mTypeError\u001b[0m                                 Traceback (most recent call last)",
            "\u001b[0;32m<ipython-input-28-8da7f8e12d47>\u001b[0m in \u001b[0;36m<module>\u001b[0;34m\u001b[0m\n\u001b[0;32m----> 1\u001b[0;31m \u001b[0mtime\u001b[0m\u001b[0;34m.\u001b[0m\u001b[0mtime\u001b[0m\u001b[0;34m(\u001b[0m\u001b[0;34m)\u001b[0m\u001b[0;34m[\u001b[0m\u001b[0;34m:\u001b[0m\u001b[0;34m-\u001b[0m\u001b[0;36m4\u001b[0m\u001b[0;34m]\u001b[0m\u001b[0;34m\u001b[0m\u001b[0;34m\u001b[0m\u001b[0m\n\u001b[0m",
            "\u001b[0;31mTypeError\u001b[0m: 'float' object is not subscriptable"
          ]
        }
      ]
    },
    {
      "cell_type": "code",
      "source": [
        "time.localtime() #結構時間格式"
      ],
      "metadata": {
        "colab": {
          "base_uri": "https://localhost:8080/"
        },
        "id": "reNMnu3iOj8r",
        "outputId": "512d22c8-c591-43f2-ea67-5e0f8d59299f"
      },
      "execution_count": null,
      "outputs": [
        {
          "output_type": "execute_result",
          "data": {
            "text/plain": [
              "time.struct_time(tm_year=2022, tm_mon=8, tm_mday=20, tm_hour=7, tm_min=49, tm_sec=33, tm_wday=5, tm_yday=232, tm_isdst=0)"
            ]
          },
          "metadata": {},
          "execution_count": 31
        }
      ]
    },
    {
      "cell_type": "code",
      "source": [
        "import time\n",
        "start = time.time()\n",
        "print(f\"開始時間：{start}\")\n",
        "for i in range(0, 10000):\n",
        "    time.sleep(0.001)\n",
        "end = time.time()\n",
        "\n",
        "print(\"結束時間:{}\".format(end))\n",
        "print(\"使用時間：%7.3f\" %(end-start))"
      ],
      "metadata": {
        "colab": {
          "base_uri": "https://localhost:8080/"
        },
        "id": "0pCgIhRIKCMo",
        "outputId": "901acc51-89e9-4713-a750-a4ed88b62242"
      },
      "execution_count": null,
      "outputs": [
        {
          "output_type": "stream",
          "name": "stdout",
          "text": [
            "開始時間：1660981195.421387\n",
            "結束時間:1660981206.41423\n",
            "使用時間： 10.993\n"
          ]
        }
      ]
    },
    {
      "cell_type": "code",
      "source": [
        "# 取得本地時間"
      ],
      "metadata": {
        "id": "B9zYhPd7MW1A"
      },
      "execution_count": null,
      "outputs": []
    },
    {
      "cell_type": "markdown",
      "source": [
        "## 中華民國年月日"
      ],
      "metadata": {
        "id": "x30ViM7cPX02"
      }
    },
    {
      "cell_type": "markdown",
      "source": [
        "### 範例：轉換為中華民國年月日"
      ],
      "metadata": {
        "id": "MxqM51tZPbjF"
      }
    },
    {
      "cell_type": "code",
      "source": [
        "from time import localtime\n",
        "# 轉換為本地時間、中華民國年月日\n",
        "import time\n",
        "now = time.localtime()\n",
        "# b\n",
        "cyear = (now.tm_year) - 1911\n",
        "month = now.tm_mon\n",
        "day = now.tm_mday\n",
        "print(\"中國民國 {}年 {}月 {}日\".format(cyear, month, day))"
      ],
      "metadata": {
        "colab": {
          "base_uri": "https://localhost:8080/"
        },
        "id": "iQBzLZpIPflV",
        "outputId": "bc5013e3-0e0b-4378-b44a-e4fbfb72e290"
      },
      "execution_count": null,
      "outputs": [
        {
          "output_type": "stream",
          "name": "stdout",
          "text": [
            "中國民國 111年 8月 20日\n"
          ]
        }
      ]
    },
    {
      "cell_type": "markdown",
      "source": [
        "# 檔案操作"
      ],
      "metadata": {
        "id": "0NQLoKUbRKdl"
      }
    },
    {
      "cell_type": "markdown",
      "source": [
        "### os 函式\n",
        "> getcwd()、remove()、mkdir()、rmdir()、makedirs()"
      ],
      "metadata": {
        "id": "2GocfU-cRL3z"
      }
    },
    {
      "cell_type": "code",
      "source": [
        "# 取得目前的工作目錄\n",
        "import os\n",
        "os.getcwd()"
      ],
      "metadata": {
        "colab": {
          "base_uri": "https://localhost:8080/",
          "height": 36
        },
        "id": "spxR9OFXRQVj",
        "outputId": "7b5a33c1-e61c-42d1-f15b-b0163260783f"
      },
      "execution_count": 44,
      "outputs": [
        {
          "output_type": "execute_result",
          "data": {
            "text/plain": [
              "'/content'"
            ],
            "application/vnd.google.colaboratory.intrinsic+json": {
              "type": "string"
            }
          },
          "metadata": {},
          "execution_count": 44
        }
      ]
    },
    {
      "cell_type": "code",
      "source": [
        "# 刪除檔案\n",
        "os.remove(\"hello.py\")"
      ],
      "metadata": {
        "id": "siwtCRCpRrbv"
      },
      "execution_count": 41,
      "outputs": []
    },
    {
      "cell_type": "code",
      "source": [
        "os.mkdir(\"第一層目錄\")"
      ],
      "metadata": {
        "id": "iIquQspDSV48"
      },
      "execution_count": 69,
      "outputs": []
    },
    {
      "cell_type": "code",
      "source": [
        "os.rmdir(\"第一層目錄\")"
      ],
      "metadata": {
        "colab": {
          "base_uri": "https://localhost:8080/",
          "height": 167
        },
        "id": "pi8drraZS_DR",
        "outputId": "1e5021a1-0cc7-4c9b-a604-400f94598a13"
      },
      "execution_count": 66,
      "outputs": [
        {
          "output_type": "error",
          "ename": "FileNotFoundError",
          "evalue": "ignored",
          "traceback": [
            "\u001b[0;31m---------------------------------------------------------------------------\u001b[0m",
            "\u001b[0;31mFileNotFoundError\u001b[0m                         Traceback (most recent call last)",
            "\u001b[0;32m<ipython-input-66-2735af4ea1b9>\u001b[0m in \u001b[0;36m<module>\u001b[0;34m\u001b[0m\n\u001b[0;32m----> 1\u001b[0;31m \u001b[0mos\u001b[0m\u001b[0;34m.\u001b[0m\u001b[0mrmdir\u001b[0m\u001b[0;34m(\u001b[0m\u001b[0;34m\"第一層目錄\"\u001b[0m\u001b[0;34m)\u001b[0m\u001b[0;34m\u001b[0m\u001b[0;34m\u001b[0m\u001b[0m\n\u001b[0m",
            "\u001b[0;31mFileNotFoundError\u001b[0m: [Errno 2] No such file or directory: '第一層目錄'"
          ]
        }
      ]
    },
    {
      "cell_type": "code",
      "source": [
        "os.mkdir(\"第一層目錄/第二層目錄\")  # 建立多層出現錯誤"
      ],
      "metadata": {
        "id": "MaSM-ldgTi08"
      },
      "execution_count": null,
      "outputs": []
    },
    {
      "cell_type": "code",
      "source": [
        "os.makedirs(\"第一層目錄/第二層目錄\") # 可建立多層目錄"
      ],
      "metadata": {
        "id": "Q9CUNK_2TkpL"
      },
      "execution_count": null,
      "outputs": []
    },
    {
      "cell_type": "code",
      "source": [
        "# 建立目錄、刪除目錄、建立次目錄、刪除多層目錄\n",
        "# os.mkdir(\"第一層目錄\")\n",
        "# os.rmdir(\"第一層目錄\") #必須是空目錄\n",
        "# os.mkdir(\"第一層目錄/第二層目錄\")  # 建立多層出現錯誤\n",
        "# os.makedirs(\"第一層目錄/第二層目錄\") # 可建立多層目錄"
      ],
      "metadata": {
        "id": "kqAIDfx0Ttb7"
      },
      "execution_count": null,
      "outputs": []
    },
    {
      "cell_type": "code",
      "source": [
        "# 建立 hello.py 檔\n",
        "%%writefile hello.py\n",
        "print(\"hello\")"
      ],
      "metadata": {
        "colab": {
          "base_uri": "https://localhost:8080/"
        },
        "id": "5R2i-kmoUiFf",
        "outputId": "80f74906-ca4d-449b-a28f-98286e95a576"
      },
      "execution_count": 79,
      "outputs": [
        {
          "output_type": "stream",
          "name": "stdout",
          "text": [
            "Writing hello.py\n"
          ]
        }
      ]
    },
    {
      "cell_type": "code",
      "source": [
        "%run hello.py"
      ],
      "metadata": {
        "colab": {
          "base_uri": "https://localhost:8080/"
        },
        "id": "IxGpTdXLUs7K",
        "outputId": "48497263-f45d-4bd3-cced-de62a729cccf"
      },
      "execution_count": 49,
      "outputs": [
        {
          "output_type": "stream",
          "name": "stdout",
          "text": [
            "hello\n"
          ]
        }
      ]
    },
    {
      "cell_type": "markdown",
      "source": [
        "## 刪除檔案"
      ],
      "metadata": {
        "id": "Q7Tfd93Wdj1a"
      }
    },
    {
      "cell_type": "code",
      "source": [
        "# 刪除檔案\n",
        "import os \n",
        "file = \"hello.py\"\n",
        "if os.path.exists(file):\n",
        "    os.remove(file)\n",
        "else:\n",
        "    print('檔案不存在')"
      ],
      "metadata": {
        "colab": {
          "base_uri": "https://localhost:8080/"
        },
        "id": "ZnMpnsN-d1db",
        "outputId": "e4a549fe-8cd1-4fd7-d92b-caf464294e66"
      },
      "execution_count": 52,
      "outputs": [
        {
          "output_type": "stream",
          "name": "stdout",
          "text": [
            "檔案不存在\n"
          ]
        }
      ]
    },
    {
      "cell_type": "code",
      "source": [
        "# 刪除目錄\n",
        "import os\n",
        "dir = \"dir1\"\n",
        "if os.path.exists(dir):\n",
        "    os.rmdir(dir)\n",
        "    print(\"目錄已刪除\")\n",
        "else:\n",
        "    os.mkdir(dir)\n",
        "    print(\"目錄已建立\")"
      ],
      "metadata": {
        "colab": {
          "base_uri": "https://localhost:8080/"
        },
        "id": "QYrNT2jwe4Rg",
        "outputId": "061746ae-e30a-4849-f8a7-dd7b30c94f76"
      },
      "execution_count": 59,
      "outputs": [
        {
          "output_type": "stream",
          "name": "stdout",
          "text": [
            "目錄已建立\n"
          ]
        }
      ]
    },
    {
      "cell_type": "markdown",
      "source": [
        "##shutil 模組"
      ],
      "metadata": {
        "id": "FtbuVFbhT4if"
      }
    },
    {
      "cell_type": "code",
      "source": [
        "# 刪除指定目錄(非空目錄)\n",
        "import shutil\n",
        "shutil.rmtree(\"第一層目錄\")"
      ],
      "metadata": {
        "id": "2ehH_OG2T-Xa"
      },
      "execution_count": null,
      "outputs": []
    },
    {
      "cell_type": "code",
      "source": [
        "# !rm -i -rf 檔案或目錄\n",
        "# !rm -i -rf \"第一層目錄\""
      ],
      "metadata": {
        "id": "lBrQgNjsT_0s"
      },
      "execution_count": null,
      "outputs": []
    },
    {
      "cell_type": "markdown",
      "source": [
        "## os.path 模組"
      ],
      "metadata": {
        "id": "WnCvRlmdU9Mz"
      }
    },
    {
      "cell_type": "markdown",
      "source": [
        "### os.path 的函式\n",
        ">abspath()、basename()、exists()、getsize()  \n",
        ">split()、join() "
      ],
      "metadata": {
        "id": "82aniG5SU_t1"
      }
    },
    {
      "cell_type": "code",
      "source": [
        "import os\n",
        "os.path.exists('hello2.py')"
      ],
      "metadata": {
        "colab": {
          "base_uri": "https://localhost:8080/"
        },
        "id": "QWLJYFmkdUzx",
        "outputId": "8b1e7b32-b0bd-4794-8d47-380f28ce1aeb"
      },
      "execution_count": 50,
      "outputs": [
        {
          "output_type": "execute_result",
          "data": {
            "text/plain": [
              "False"
            ]
          },
          "metadata": {},
          "execution_count": 50
        }
      ]
    },
    {
      "cell_type": "code",
      "source": [
        "os.path.abspath('hello.py')"
      ],
      "metadata": {
        "colab": {
          "base_uri": "https://localhost:8080/",
          "height": 36
        },
        "id": "Sryr2iamf3L7",
        "outputId": "b76b4eb7-bcd5-48bc-ca92-928e005073ae"
      },
      "execution_count": 56,
      "outputs": [
        {
          "output_type": "execute_result",
          "data": {
            "text/plain": [
              "'/content/hello.py'"
            ],
            "application/vnd.google.colaboratory.intrinsic+json": {
              "type": "string"
            }
          },
          "metadata": {},
          "execution_count": 56
        }
      ]
    },
    {
      "cell_type": "code",
      "source": [
        "os.path.basename('hello.py')"
      ],
      "metadata": {
        "colab": {
          "base_uri": "https://localhost:8080/",
          "height": 36
        },
        "id": "aiQBE73-f9-7",
        "outputId": "de724ec5-42fc-4b06-ac22-b6251bdc850e"
      },
      "execution_count": 57,
      "outputs": [
        {
          "output_type": "execute_result",
          "data": {
            "text/plain": [
              "'hello.py'"
            ],
            "application/vnd.google.colaboratory.intrinsic+json": {
              "type": "string"
            }
          },
          "metadata": {},
          "execution_count": 57
        }
      ]
    },
    {
      "cell_type": "code",
      "source": [
        "os.path.basename('dir1')"
      ],
      "metadata": {
        "colab": {
          "base_uri": "https://localhost:8080/",
          "height": 36
        },
        "id": "KdVsMFBigEwA",
        "outputId": "bcabda3e-7390-49e7-e046-069fc6ed158f"
      },
      "execution_count": 60,
      "outputs": [
        {
          "output_type": "execute_result",
          "data": {
            "text/plain": [
              "'dir1'"
            ],
            "application/vnd.google.colaboratory.intrinsic+json": {
              "type": "string"
            }
          },
          "metadata": {},
          "execution_count": 60
        }
      ]
    },
    {
      "cell_type": "code",
      "source": [
        "os.path.getsize('hello.py')"
      ],
      "metadata": {
        "colab": {
          "base_uri": "https://localhost:8080/"
        },
        "id": "IfVKhPUWgXik",
        "outputId": "bbba992f-6ea2-4313-f493-e7b22c649a3a"
      },
      "execution_count": 61,
      "outputs": [
        {
          "output_type": "execute_result",
          "data": {
            "text/plain": [
              "15"
            ]
          },
          "metadata": {},
          "execution_count": 61
        }
      ]
    },
    {
      "cell_type": "markdown",
      "source": [
        "### 範例\n",
        "\n",
        "顯示檔案的路徑、大小，分割檔案路徑。"
      ],
      "metadata": {
        "id": "MxVFBueqhDVz"
      }
    },
    {
      "cell_type": "code",
      "source": [
        "# os.path 函式操作\n",
        "import os\n",
        "file = \"hello.py\"\n",
        "file = os.path.join(os.getcwd(),file)\n",
        "file\n",
        "dir = \"dir1\"\n",
        "print(os.path.abspath(file))\n",
        "print(os.path.basename(file))\n",
        "print(os.path.basename(dir))\n",
        "print(os.path.split(file))"
      ],
      "metadata": {
        "colab": {
          "base_uri": "https://localhost:8080/"
        },
        "id": "6RHtOoAmhJfC",
        "outputId": "a4104bc3-2412-418c-ef42-d085b8ab4384"
      },
      "execution_count": 62,
      "outputs": [
        {
          "output_type": "stream",
          "name": "stdout",
          "text": [
            "/content/hello.py\n",
            "hello.py\n",
            "dir1\n",
            "('/content', 'hello.py')\n"
          ]
        }
      ]
    },
    {
      "cell_type": "code",
      "source": [
        "# 檔案大小\n",
        "import os\n",
        "file = \"hello.py\"\n",
        "file = os.path.join(os.getcwd(),file)\n",
        "file\n",
        "if os.path.exists(file):\n",
        "  print('檔案大小：',os.path.getsize(file))"
      ],
      "metadata": {
        "colab": {
          "base_uri": "https://localhost:8080/"
        },
        "id": "op6g_01lhU5p",
        "outputId": "0f87756d-4e8d-4254-acf6-856e5494ba25"
      },
      "execution_count": 64,
      "outputs": [
        {
          "output_type": "stream",
          "name": "stdout",
          "text": [
            "檔案大小： 15\n"
          ]
        }
      ]
    },
    {
      "cell_type": "markdown",
      "source": [
        "###練習一\n",
        "\n",
        "建立 myDir 目錄，並在 myDir 目錄中建立 myFile.py 檔。"
      ],
      "metadata": {
        "id": "Y6mWP55VkoiR"
      }
    },
    {
      "cell_type": "code",
      "source": [
        "# import os\n",
        "os.mkdir(\"myDir\")"
      ],
      "metadata": {
        "id": "jravlpIck_ek"
      },
      "execution_count": 93,
      "outputs": []
    },
    {
      "cell_type": "code",
      "source": [
        "%%writefile myFile.py\n",
        "print(\"hello\")"
      ],
      "metadata": {
        "colab": {
          "base_uri": "https://localhost:8080/"
        },
        "id": "ssf1pLgcnmJQ",
        "outputId": "400ef7e4-7acb-4e6f-e7a7-2fe9b6743a93"
      },
      "execution_count": 95,
      "outputs": [
        {
          "output_type": "stream",
          "name": "stdout",
          "text": [
            "Writing myFile.py\n"
          ]
        }
      ]
    },
    {
      "cell_type": "code",
      "source": [
        "import os\n",
        "dir=\"myDir\"\n",
        "if os.path.exists(dir):\n",
        "  print(\"目錄已建立\")\n",
        "else:\n",
        "  print(\"目錄不存在\")"
      ],
      "metadata": {
        "id": "qjAFDfb0nw02"
      },
      "execution_count": null,
      "outputs": []
    },
    {
      "cell_type": "markdown",
      "source": [
        "###練習二\n",
        "\n",
        "若 myFile.py 已建立，顯示該檔案的完整路徑和檔案大小。"
      ],
      "metadata": {
        "id": "MtlVygILomYN"
      }
    },
    {
      "cell_type": "code",
      "source": [
        "# file = \"/content/myDir/myFile.py\"\n",
        "if os.path.exists(file):\n",
        "  print(os.path.abspath(file))\n",
        "  print(os.path.getsize(file))"
      ],
      "metadata": {
        "colab": {
          "base_uri": "https://localhost:8080/"
        },
        "id": "V-g3V39KopGD",
        "outputId": "78045ad9-dc9a-4c45-f43c-45120dedce64"
      },
      "execution_count": 98,
      "outputs": [
        {
          "output_type": "stream",
          "name": "stdout",
          "text": [
            "/content/myDir/myFile.py\n",
            "15\n"
          ]
        }
      ]
    },
    {
      "cell_type": "markdown",
      "source": [
        "## os.walk 函式"
      ],
      "metadata": {
        "id": "1MTWGFxSIT7C"
      }
    },
    {
      "cell_type": "code",
      "source": [
        "# 下載 Google 雲端硬碟的 oswalk.zip 並解壓縮\n",
        "!gdown '1PbhNT4duXnW1L8WYpKpmctxuU1G2mDKX' --output oswalk.zip\n",
        "!unzip oswalk.zip"
      ],
      "metadata": {
        "colab": {
          "base_uri": "https://localhost:8080/"
        },
        "id": "1E-HoNyMIXBe",
        "outputId": "20850d37-2eaa-44e0-9e71-bdd987d83cc3"
      },
      "execution_count": 1,
      "outputs": [
        {
          "output_type": "stream",
          "name": "stdout",
          "text": [
            "Downloading...\n",
            "From: https://drive.google.com/uc?id=1PbhNT4duXnW1L8WYpKpmctxuU1G2mDKX\n",
            "To: /content/oswalk.zip\n",
            "\r  0% 0.00/193k [00:00<?, ?B/s]\r100% 193k/193k [00:00<00:00, 71.8MB/s]\n",
            "Archive:  oswalk.zip\n",
            "   creating: oswalk/\n",
            "   creating: oswalk/Dir/\n",
            " extracting: oswalk/Dir/Dir1.txt     \n",
            " extracting: oswalk/Dir/Dir2.txt     \n",
            "   creating: oswalk/Dir/SubDir/\n",
            " extracting: oswalk/Dir/SubDir/SubDir1.txt  \n",
            "  inflating: oswalk/oswalk.py        \n",
            " extracting: oswalk/oswalk1.txt      \n",
            "   creating: images/\n",
            "  inflating: images/img01.jpg        \n",
            "  inflating: images/img02.jpg        \n",
            "  inflating: images/img03.jpg        \n",
            "  inflating: images/img04.jpg        \n",
            "  inflating: images/img05.jpg        \n",
            "  inflating: images/img06.jpg        \n"
          ]
        }
      ]
    },
    {
      "cell_type": "code",
      "source": [
        "# oswork 函式\n",
        "import os\n",
        "cur_path=\"/content/oswalk\"\n",
        "sample_tree=os.walk(cur_path)\n",
        "for dirname,subdir,files in sample_tree:\n",
        "#   print('檔案路徑' ,dirname)\n",
        "#   print('目錄串列' ,subdir)\n",
        "  print('檔案串列',files)"
      ],
      "metadata": {
        "colab": {
          "base_uri": "https://localhost:8080/"
        },
        "id": "3VQwI4WpJlGG",
        "outputId": "7b5d81d5-6ed3-4c28-c1ee-959e24946f5d"
      },
      "execution_count": 4,
      "outputs": [
        {
          "output_type": "stream",
          "name": "stdout",
          "text": [
            "檔案串列 ['oswalk1.txt', 'oswalk.py']\n",
            "檔案串列 ['Dir1.txt', 'Dir2.txt']\n",
            "檔案串列 ['SubDir1.txt']\n"
          ]
        }
      ]
    },
    {
      "cell_type": "markdown",
      "source": [
        "### 練習：計算 oswork 目錄及其子目錄共有幾個 txt 檔案。"
      ],
      "metadata": {
        "id": "bpmvifsRLLLX"
      }
    },
    {
      "cell_type": "code",
      "source": [
        "# oswork 函式\n",
        "import os\n",
        "cur_path=\"/content/oswalk\" #目錄路徑\n",
        "sample_tree=os.walk(cur_path)\n",
        "n=0\n",
        "for dirname,subdir,files in sample_tree:  \n",
        "    # print(files)\n",
        "  for file in files:\n",
        "    #   print(file)\n",
        "    if '.txt' in file:\n",
        "      print(file) \n",
        "      n+=1\n",
        "print(f\"共有 {n} 個 txt 檔案\")"
      ],
      "metadata": {
        "colab": {
          "base_uri": "https://localhost:8080/"
        },
        "id": "JmarPJaSLO56",
        "outputId": "7a2304a1-84fc-4ea7-bd9b-9491d196a7c5"
      },
      "execution_count": 7,
      "outputs": [
        {
          "output_type": "stream",
          "name": "stdout",
          "text": [
            "oswalk1.txt\n",
            "Dir1.txt\n",
            "Dir2.txt\n",
            "SubDir1.txt\n",
            "共有 4 個 txt 檔案\n"
          ]
        }
      ]
    },
    {
      "cell_type": "markdown",
      "source": [
        "## glob 模組"
      ],
      "metadata": {
        "id": "j5tuQhx6a62G"
      }
    },
    {
      "cell_type": "markdown",
      "source": [
        "###範例：取得 images 目錄中的所有 jpg 檔。"
      ],
      "metadata": {
        "id": "PfNDTvbGa9uN"
      }
    },
    {
      "cell_type": "code",
      "source": [
        "# glob 函式\n",
        "import glob\n",
        "files = glob.glob('*.py') + glob.glob(\"images/*.jpg\")\n",
        "# files\n",
        "# files = glob.glob(\"images/*.jpg\")\n",
        "for file in files:\n",
        "  print(file) "
      ],
      "metadata": {
        "colab": {
          "base_uri": "https://localhost:8080/"
        },
        "id": "-J2mEL46bA1Q",
        "outputId": "9ac18e8e-7b61-41c7-ae7e-7aba30fe8864"
      },
      "execution_count": 24,
      "outputs": [
        {
          "output_type": "stream",
          "name": "stdout",
          "text": [
            "images/img06.jpg\n",
            "images/img04.jpg\n",
            "images/img02.jpg\n",
            "images/img01.jpg\n",
            "images/img05.jpg\n",
            "images/img03.jpg\n"
          ]
        }
      ]
    },
    {
      "cell_type": "markdown",
      "source": [
        "###練習：取得 oswalk/Dir 中的所有 txt 檔。"
      ],
      "metadata": {
        "id": "klTnLbfi4Sp7"
      }
    },
    {
      "cell_type": "code",
      "source": [
        "# glob 函式\n",
        "import glob\n",
        "files = glob.glob(\"oswalk/Dir/*.txt\")\n",
        "# files\n",
        "# files = glob.glob(\"images/*.jpg\")\n",
        "for file in files:\n",
        "  print(file) "
      ],
      "metadata": {
        "colab": {
          "base_uri": "https://localhost:8080/"
        },
        "id": "pKsW0etr4VJp",
        "outputId": "90314b02-4909-44aa-f999-ffe07a81338a"
      },
      "execution_count": 29,
      "outputs": [
        {
          "output_type": "stream",
          "name": "stdout",
          "text": [
            "oswalk/Dir/Dir1.txt\n",
            "oswalk/Dir/Dir2.txt\n"
          ]
        }
      ]
    },
    {
      "cell_type": "markdown",
      "source": [
        "# 物件和類別"
      ],
      "metadata": {
        "id": "PlgEXLcO59m_"
      }
    },
    {
      "cell_type": "markdown",
      "source": [
        "## 內建整數類別"
      ],
      "metadata": {
        "id": "9cyn-PB06At5"
      }
    },
    {
      "cell_type": "code",
      "source": [
        "# 定義類別\n",
        "class A():\n",
        "   name = 'David'\n",
        "   def hello(self):\n",
        "       print('Hello')\n",
        "\n",
        "a = A()\n",
        "a.name\n",
        "a.hello()"
      ],
      "metadata": {
        "colab": {
          "base_uri": "https://localhost:8080/"
        },
        "id": "rogrzHfi6M16",
        "outputId": "2d8b03f5-9e00-4f09-8c5e-48dbfec79783"
      },
      "execution_count": 31,
      "outputs": [
        {
          "output_type": "stream",
          "name": "stdout",
          "text": [
            "Hello\n"
          ]
        }
      ]
    }
  ]
}